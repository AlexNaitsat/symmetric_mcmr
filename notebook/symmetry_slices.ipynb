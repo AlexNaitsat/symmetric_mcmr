{
 "cells": [
  {
   "cell_type": "code",
   "execution_count": 2,
   "source": [
    "import meshzoo\n",
    "import numpy as np\n",
    "import igl\n",
    "import meshplot as mp\n",
    "import scipy.io\n",
    "import os\n",
    "import math\n",
    "from matplotlib.colors import LinearSegmentedColormap\n",
    "import matplotlib.pyplot as plt\n",
    "import matplotlib as mpl\n",
    "from IPython.display import Image, display, Markdown\n",
    "import ipywidgets as widgets\n",
    "from meshplot_utils import add_transparent_mesh, color4plot, Out\n",
    "#from utils.debug_utils import picture_table_with_title\n",
    "import utils.debug_utils  as du\n",
    "import utils.geometry  as gu\n",
    "import meshplot_utils as mu \n",
    "import itertools\n",
    "\n",
    "#reload packes without restarting notebook \n",
    "import importlib\n",
    "importlib.reload(gu)\n",
    "\n",
    "#help functions\n",
    "def reflectX(xyz):\n",
    "    if len(xyz.shape)==2:\n",
    "        return  np.concatenate( (-xyz[:,0:1], xyz[:,1:3]), axis=1) \n",
    "    else:\n",
    "        return  np.concatenate( (-xyz[0:1], xyz[1:3]) ) \n",
    "\n",
    "def get_bboxes(vert):\n",
    "    m = np.min(vert, axis=0)\n",
    "    ma = np.max(vert, axis=0)\n",
    "    ma_half = np.max(vert, axis=0)\n",
    "    ma_half[0] = (m[0]+ma_half[0])/2.0\n",
    "\n",
    "    # Corners of the bounding box\n",
    "    v_box = np.array([[m[0], m[1], m[2]], [ma[0], m[1], m[2]], [ma[0], ma[1], m[2]], [m[0], ma[1], m[2]],\n",
    "                    [m[0], m[1], ma[2]], [ma[0], m[1], ma[2]], [ma[0], ma[1], ma[2]], [m[0], ma[1], ma[2]]])\n",
    "\n",
    "\n",
    "    v_box_half = np.array([[m[0], m[1], m[2]], [ma_half[0], m[1], m[2]], [ma_half[0], ma_half[1], m[2]], [m[0], ma_half[1], m[2]],\n",
    "                    [m[0], m[1], ma_half[2]], [ma_half[0], m[1], ma_half[2]], [ma_half[0], ma_half[1], ma_half[2]], [m[0], ma_half[1], ma_half[2]]])                  \n",
    "\n",
    "    # Edges of the bounding box\n",
    "    f_box = np.array([[0, 1], [1, 2], [2, 3], [3, 0], [4, 5], [5, 6], [6, 7], \n",
    "                      [7, 4], [0, 4], [1, 5], [2, 6], [7, 3]], dtype=np.int)\n",
    "                      \n",
    "    return v_box, v_box_half, f_box\n",
    "\n",
    "def draw_bboxes(p, vert):\n",
    "    v_box, v_box_half, f_box = get_bboxes(vert)\n",
    "    \n",
    "    id1 = p.add_edges(v_box, f_box, shading={\"line_color\": \"black\"})\n",
    "    id2 = p.add_edges(v_box_half, f_box, shading={\"line_color\": \"black\",'line_width':0.3})\n",
    "    id3 = p.add_edges(v_box, np.array([[0, 1]],dtype=np.int), shading={\"line_color\": \"red\",'line_width':1})\n",
    "    id4 = p.add_edges(v_box, np.array([[0, 3]],dtype=np.int), shading={\"line_color\": \"green\",'line_width':1})\n",
    "    id5 = p.add_edges(v_box, np.array([[0, 4]],dtype=np.int), shading={\"line_color\": \"blue\",'line_width':1})\n",
    "    \n",
    "    return [id1,id2,id3,id4,id5]\n",
    "\n",
    "sphere_plot_ids = []\n",
    "def visualize_sphere(p, V, selected_indices, selected_col):\n",
    "    res = 0\n",
    "    #print(f'(V,F): {(V.shape,F.shape)}')\n",
    "    for i in sphere_data.keys():\n",
    "        #print((sphere_data[i]['V'].shape, sphere_data[i]['F'].shape))\n",
    "        if sphere_data[i]['V'].shape[0] ==V.shape[0] and sphere_data[i]['F'].shape[0] == F.shape[0] and  not np.any(sphere_data[i]['F'] - F):\n",
    "            print(f\"resolution level={i}\")\n",
    "            res = i\n",
    "            break\n",
    "\n",
    "    S = sphere_data[res]\n",
    "    sphere_size = S['V'][:,0].max() - S['V'][:,0].min()\n",
    "    shape_scale = V[:,0].max() - V[:,0].min()\n",
    "    SV = (S['V']/sphere_size)*shape_scale + np.array( [V[:,0].max() + shape_scale, 0, 0]) #normlaize to mesh size and shift left \n",
    "    if reflect_sphere_y:\n",
    "        SV[:,1] = -SV[:,1]\n",
    "    sphere_plot_ids.append(p.add_mesh(SV,S['F'], shading = shading_dic))\n",
    "    #selected_vert = np.stack( (SV[vr_max,:],SV[vl_max,:]), axis =1 ).transpose()\n",
    "    selected_vert = SV[selected_indices,:]\n",
    "    sphere_plot_ids.append( p.add_points(selected_vert, c =selected_col, shading={\"point_size\": 0.15}) )\n",
    "    sphere_plot_ids.extend(draw_bboxes(p, SV))\n",
    "    return sphere_plot_ids\n",
    "\n",
    "def Out(str):\n",
    "    display(Markdown(f'### {str}'))\n",
    "\n",
    "\n",
    "# symmetry configurations \n",
    "# shading_dic = dict(wireframe=True, line_color= [0.2,0.2,0.2] )\n",
    "# resolutions= [2,3,4]\n",
    "\n",
    "npy_file     = '../auxilary/icoshpere_meshes.npy'\n",
    "npy_sub_file = '../auxilary/icoshpere_mesh_subdivision_1.npy'\n",
    " \n",
    "\n",
    "#visualize_sphere = True \n",
    "sphere_data = []\n",
    "#if visualize_sphere:\n",
    "sphere_data = np.load(npy_sub_file, allow_pickle = True).item()\n",
    "reflect_sphere_y = True #MCMR intializes shapes with eco-sphere reflected along y axis \n",
    "meshplot_to_html = True\n",
    "show_sphere_bydefault = True\n",
    "show_image_table = True #show input and rendered  rgb and mask images \n",
    "\n",
    "enable_index_symmetry     = True  #symmetry of sphere deformation \n",
    "\n",
    "sphere_plot_ids = []\n",
    "def get_sphere(V):\n",
    "    res = 0\n",
    "    #print(f'(V,F): {(V.shape,F.shape)}')\n",
    "    for i in sphere_data.keys():\n",
    "        #print((sphere_data[i]['V'].shape, sphere_data[i]['F'].shape))\n",
    "        if sphere_data[i]['V'].shape[0] ==V.shape[0] and sphere_data[i]['F'].shape[0] == F.shape[0] and  not np.any(sphere_data[i]['F'] - F):\n",
    "            print(f\"resolution level={i}\")\n",
    "            res = i\n",
    "            break\n",
    "\n",
    "    S = sphere_data[res]\n",
    "    sphere_size = S['V'][:,0].max() - S['V'][:,0].min()\n",
    "    shape_scale = V[:,0].max() - V[:,0].min()\n",
    "    #SV = (S['V']/sphere_size)*shape_scale + np.array( [V[:,0].max() + shape_scale, 0, 0]) #normlaize to mesh size and shift left \n",
    "    SV = (S['V']/sphere_size)*shape_scale #normlaize to mesh size and shift left \n",
    "    if reflect_sphere_y:\n",
    "        SV[:,1] = -SV[:,1]\n",
    "    #sphere_plot_ids.append(p.add_mesh(SV,S['F'], shading = shading_dic))\n",
    "    return SV, S['F']"
   ],
   "outputs": [],
   "metadata": {}
  },
  {
   "cell_type": "code",
   "execution_count": 3,
   "source": [
    "#configurations \n",
    "shading_dic = dict(wireframe=True, line_color= [0.2,0.2,0.2] )\n",
    "resolutions= [2,3,4]\n",
    "\n",
    "npy_file     = '../auxilary/icoshpere_meshes.npy'\n",
    "npy_sub_file = '../auxilary/icoshpere_mesh_subdivision_1.npy'\n",
    "\n",
    "\n",
    "#=============================full test datas ======================================\n",
    "data_path_list = ['../save/car_10_MRCNN__/car-qualitative',  \\\n",
    "                 '../save/plane_car_1_PointRend__/aeroplane-car-qualitative', \\\n",
    "                 '../save/plane_car_2_PointRend__/aeroplane-car-qualitative', \\\n",
    "                 '../save/bicycle_bus_car_bike_1_PointRend__/bicycle-bus-car-motorbike-qualitative', \\\n",
    "                 '../save/bicycle_bus_car_bike_4_PointRend__/bicycle-bus-car-motorbike-qualitative' \\\n",
    "                ]\n",
    "\n",
    "\n",
    "#widgets.Checkbox(value=False,description='show initial shape')\n",
    "  \n",
    "\n",
    "#visualize_sphere = True \n",
    "sphere_data = []\n",
    "#if visualize_sphere:\n",
    "sphere_data = np.load(npy_sub_file, allow_pickle = True).item()\n",
    "reflect_sphere_y = True #MCMR intializes shapes with eco-sphere reflected along y axis \n",
    "meshplot_to_html = True\n",
    "show_sphere_bydefault = True\n",
    "show_image_table = True #show input and rendered  rgb and mask images \n",
    "\n",
    "enable_index_symmetry     = True  #symmetry of sphere deformation \n",
    "enable_Hausdorff_symmetry = True   #symmetry of reconstructed mesh  (enable only one to avoid  plots being messed up)"
   ],
   "outputs": [],
   "metadata": {}
  },
  {
   "cell_type": "code",
   "execution_count": 4,
   "source": [
    "data_path_list = ['../save/plane_car_1_PointRend__old/aeroplane-car-qualitative', \\\n",
    "                  '../save/plane_car_2_PointRend__old/aeroplane-car-qualitative'  \\\n",
    "                ]\n",
    "data_path = '../save/plane_car_2_PointRend__old/aeroplane-car-qualitative'\n",
    "data = np.load( data_path + '/shape_symmetries.npy', allow_pickle = True).item()\n",
    "print(data.keys())\n",
    "print(data['LR_max'].shape[0])\n",
    "\n",
    "\n",
    "\n",
    "data_path = '../save/plane_car_2_PointRend__old/aeroplane-car-qualitative'\n",
    "data = np.load( data_path + '/shape_symmetries.npy', allow_pickle = True).item()\n",
    "print(data.keys())\n",
    "print(data['LR_max'].shape[0])\n",
    "\n",
    "data_path = '../save/plane_car_2_PointRend__old/aeroplane-car-qualitative'\n",
    "data = np.load( data_path + '/shape_symmetries.npy', allow_pickle = True).item()\n",
    "\n",
    "#fetching saved data \n",
    "data = np.load( data_path + '/shape_symmetries.npy', allow_pickle = True).item()\n",
    "LR_max = data['LR_max']\n",
    "V_right = data['V_right']\n",
    "V_opposite = data['V_opposite']\n",
    "H_symm = data['H_symm']\n",
    "i_max = LR_max.argmax()\n",
    "ih_max = H_symm.argmax()\n",
    "print(f'Reported errors :')\n",
    "print(f'    Max-Max Symmetry Errors  =  {LR_max.max():.4f}  for sample {i_max:04}')\n",
    "print(f'    Mean-Max Symmetry error = { data[\"LR_max\"].sum()/data[\"LR_max\"].shape[0]}')\n",
    "print(f'    Mean-Mean Symmetry error = { data[\"LR_mean\"].sum()/data[\"LR_mean\"].shape[0]}\\n')\n",
    "\n",
    "print(f'    Mean Hausdorff  Symmetry error = { H_symm.sum()/H_symm.shape[0]}')\n",
    "print(f'    Max Hausdorff  Symmetry error =   {H_symm.max():.4f} for sample {ih_max:04}\\n')\n",
    "\n",
    "\n",
    "# load mesh with max error\n",
    "class_name = os.path.split(data_path)[-1].split(\"-\")[0]\n",
    "obj_file = f'{data_path}/obj/{class_name}_{i_max:04}.obj'\n",
    "V0, F = igl.read_triangle_mesh(obj_file)\n",
    "V = V0 -  np.mean(V0,axis=0) #align shape to 0,0,0  \n",
    "\n",
    "#recompute relative symmetry errors \n",
    "LR_diff_unscaled = np.linalg.norm(V[V_right,:] - reflectX(V[V_opposite[V_right],:]), axis=1)\n",
    "shape_scale = V[:,0].max() - V[:,0].min()\n",
    "LR_diff = LR_diff_unscaled/shape_scale\n",
    "symm_error = np.zeros(V.shape[0])\n",
    "symm_error[V_right] = LR_diff\n",
    "symm_error[V_opposite[V_right]] = symm_error[V_right] \n",
    "\n",
    "print(f'Recompute errors after aligment (deviation={100*np.mean(V0,axis=0)/shape_scale}%) :')\n",
    "print(f'    Max Symmetry error  = {100*LR_diff.max():.3f}% of shape width (on vertex {LR_diff.argmax()} )')\n",
    "print(f'    Max Symmetry error  = {100*symm_error.max():.3f}% of shape width (on vertex {symm_error.argmax()} )')\n",
    "print(f'    Mesh with max error in the session:  {obj_file}\\n')\n",
    "\n",
    "Hobj_file = f'{data_path}/obj/{class_name}_{ih_max:04}.obj'\n",
    "mu.Out(f'### plot of max Hausdorff symmetry for {Hobj_file}')\n",
    "\n",
    "## mesh plot \n",
    "VH0, FH = igl.read_triangle_mesh(Hobj_file)\n",
    "VH = VH0 -  np.mean(VH0,axis=0) #align shape to 0,0,0  \n",
    "VH_ref = reflectX(VH)\n",
    "sizeX = VH[:,0].max() - VH[:,0].min() \n",
    "\n",
    "enable_drawing = False\n",
    "if enable_drawing:\n",
    "  ph = mp.plot(VH ,FH,  shading = shading_dic)\n",
    "  add_transparent_mesh(ph, VH + np.array([1.5*sizeX,0,0]) ,FH, c = color4plot([1,1,0],VH) , shading = shading_dic, opacity=0.5)\n",
    "\n",
    "  ph = mp.plot(VH ,FH,  shading = shading_dic)\n",
    "  add_transparent_mesh(ph, VH_ref + np.array([1.5*sizeX,0,0]), F, c = color4plot([0,0,1],VH) , shading = shading_dic, opacity=0.3)\n",
    "\n",
    "\n",
    "  ph = mp.plot(VH ,FH,  shading = shading_dic)\n",
    "  add_transparent_mesh(ph, VH + np.array([1.5*sizeX,0,0]) ,FH, c = color4plot([1,1,0],VH) , shading = shading_dic, opacity=0.5)\n",
    "  add_transparent_mesh(ph, VH_ref + np.array([1.5*sizeX,0,0]), F, c = color4plot([0,0,1],VH) , shading = shading_dic, opacity=0.3)"
   ],
   "outputs": [
    {
     "output_type": "stream",
     "name": "stdout",
     "text": [
      "dict_keys(['LR_mean', 'LR_max', 'H_symm', 'V_right', 'V_opposite'])\n",
      "477\n",
      "dict_keys(['LR_mean', 'LR_max', 'H_symm', 'V_right', 'V_opposite'])\n",
      "477\n",
      "Reported errors :\n",
      "    Max-Max Symmetry Errors  =  0.2717  for sample 0097\n",
      "    Mean-Max Symmetry error = 0.13859639622080505\n",
      "    Mean-Mean Symmetry error = 0.02048480094653865\n",
      "\n",
      "    Mean Hausdorff  Symmetry error = 0.026586508398024386\n",
      "    Max Hausdorff  Symmetry error =   0.0942 for sample 0063\n",
      "\n",
      "Recompute errors after aligment (deviation=[-0.07300931 -3.02792218 -3.86877649]%) :\n",
      "    Max Symmetry error  = 27.303% of shape width (on vertex 62 )\n",
      "    Max Symmetry error  = 27.303% of shape width (on vertex 124 )\n",
      "    Mesh with max error in the session:  ../save/plane_car_2_PointRend__old/aeroplane-car-qualitative/obj/aeroplane_0097.obj\n",
      "\n"
     ]
    },
    {
     "output_type": "display_data",
     "data": {
      "text/plain": [
       "<IPython.core.display.Markdown object>"
      ],
      "text/markdown": [
       "### ### plot of max Hausdorff symmetry for ../save/plane_car_2_PointRend__old/aeroplane-car-qualitative/obj/aeroplane_0063.obj"
      ]
     },
     "metadata": {}
    }
   ],
   "metadata": {}
  },
  {
   "cell_type": "code",
   "execution_count": 5,
   "source": [
    "symmetry_data = data \n",
    "V_right    = symmetry_data['V_right']\n",
    "V_opposite = symmetry_data['V_opposite']\n",
    "V_left = V_opposite[V_right]\n",
    "V_middle   = np.nonzero(np.arange(0,V_opposite.shape[0]) == V_opposite)[0]\n",
    "#recompute relative symmetry errors \n",
    "LR_diff = np.linalg.norm(V[V_right,:] - gu.reflectX(V[V_opposite[V_right],:]), axis=1)\n",
    "#shape_scale = V[:,0].max() - V[:,0].min()\n",
    "#LR_diff = LR_diff_unscaled/shape_scale\n",
    "sV, sF = get_sphere(V) \n",
    "lcol = [1,0,0]\n",
    "rcol = [0,0,1]\n",
    "pcol = np.array([lcol,rcol])\n",
    "maxCol=[1,0,0]\n",
    "all_vert =  list(range(V.shape[0]))\n",
    "symm_col =mu.color4plot([0.8, 0.8, 0.8], V)\n",
    "symm_col[V_right,:] =  np.array([1, 0, 0]) \n",
    "symm_col[V_left,:] =  np.array([0, 0, 1]) \n",
    "symm_col_pnt = symm_col.copy()\n",
    "symm_col_pnt[V_middle,:] = 0\n",
    "shading = dict(wireframe=False, line_color= [0.1,0.1,0.1], width=1000, height=600, wire_width=0.01, flat=False, line_width=0.01)\n",
    "mu.Out('Left-Right partition')\n",
    "\n",
    "mu.DrawMeshes(None, [ [sV,  sF, 0.5*symm_col, all_vert, symm_col_pnt], \\\n",
    "                      [V,    F, 0.5*symm_col, all_vert, symm_col_pnt],\\\n",
    "                    ], shifts =(1.5,0,0),mesh_shading = shading,  point_shading=dict(point_size= 0.1))\n",
    "                    "
   ],
   "outputs": [
    {
     "output_type": "stream",
     "name": "stdout",
     "text": [
      "resolution level=4\n"
     ]
    },
    {
     "output_type": "display_data",
     "data": {
      "text/plain": [
       "<IPython.core.display.Markdown object>"
      ],
      "text/markdown": [
       "### Left-Right partition"
      ]
     },
     "metadata": {}
    },
    {
     "output_type": "display_data",
     "data": {
      "text/plain": [
       "Renderer(camera=PerspectiveCamera(aspect=1.6666666666666667, children=(DirectionalLight(color='white', intensi…"
      ],
      "application/vnd.jupyter.widget-view+json": {
       "version_major": 2,
       "version_minor": 0,
       "model_id": "41902e9416cd4f27ac2e20675f5d59bd"
      }
     },
     "metadata": {}
    },
    {
     "output_type": "execute_result",
     "data": {
      "text/plain": [
       "<meshplot.Viewer.Viewer at 0x7fa2427ef358>"
      ]
     },
     "metadata": {},
     "execution_count": 5
    }
   ],
   "metadata": {}
  },
  {
   "cell_type": "code",
   "execution_count": 6,
   "source": [
    "V_right_slice = [[],[]]\n",
    "V_left_slice  = [[],[]]\n",
    "V_right_slice[0] = V_right[ np.nonzero( sV[V_right,1] >  0 )]\n",
    "V_right_slice[1] = V_right[ np.nonzero( sV[V_right,1] <= 0 )]\n",
    "V_left_slice[0]  = V_left[ np.nonzero(  sV[V_left,1]    > 0  ) ]\n",
    "V_left_slice[1]  = V_left[ np.nonzero(  sV[V_left,1]   <= 0  ) ]\n",
    "\n",
    "slice_col = symm_col.copy()\n",
    "slice_col[V_right_slice[0] ] = np.array([1,1,0])\n",
    "slice_col[V_left_slice[0]  ] = np.array([0,1,1])\n",
    "slice_col_pnt = slice_col.copy()\n",
    "slice_col_pnt[V_middle,:] = 0\n",
    "\n",
    "mu.Out('Left-Right partition with top, bottom horizontal slices')\n",
    "mu.DrawMeshes(None, [ [sV,  sF, 0.5*slice_col, all_vert, slice_col_pnt], \\\n",
    "                      [V,    F, 0.5*slice_col, all_vert, slice_col_pnt],\\\n",
    "                    ], shifts =(1.5,0,0),mesh_shading = shading,  point_shading=dict(point_size= 0.1))\n",
    "mu.Out('Left-Right partition with top and bottom slices')\n"
   ],
   "outputs": [
    {
     "output_type": "display_data",
     "data": {
      "text/plain": [
       "<IPython.core.display.Markdown object>"
      ],
      "text/markdown": [
       "### Left-Right partition with top, bottom horizontal slices"
      ]
     },
     "metadata": {}
    },
    {
     "output_type": "display_data",
     "data": {
      "text/plain": [
       "Renderer(camera=PerspectiveCamera(aspect=1.6666666666666667, children=(DirectionalLight(color='white', intensi…"
      ],
      "application/vnd.jupyter.widget-view+json": {
       "version_major": 2,
       "version_minor": 0,
       "model_id": "a4d6450797f9489dbb3b4425500a70d5"
      }
     },
     "metadata": {}
    },
    {
     "output_type": "display_data",
     "data": {
      "text/plain": [
       "<IPython.core.display.Markdown object>"
      ],
      "text/markdown": [
       "### Left-Right partition with top and bottom slices"
      ]
     },
     "metadata": {}
    }
   ],
   "metadata": {}
  },
  {
   "cell_type": "code",
   "execution_count": 26,
   "source": [
    "#check if the two methods return the  same partitioning \n",
    "def is_np_equal(A,B):\n",
    "    return (A.shape == B.shape) and np.all(A==B)\n",
    "\n",
    "from copy import deepcopy\n",
    "data_cp = deepcopy(symmetry_data.copy())\n",
    "V_right_slice0,  V_left_slice0 = gu.add_horizontal_slices_to_symmetry(data_cp, sV)\n",
    "data_cp = deepcopy(symmetry_data.copy())\n",
    "V_right_slice,  V_left_slice = gu.add_horizontal_slices_to_symmetry_pro(data_cp, sV,2)\n",
    "for i in range(2):\n",
    "    if not is_np_equal(V_right_slice0[i],V_right_slice[i]):\n",
    "        print(f'right slices #{i} differs')\n",
    "    if  not is_np_equal(V_left_slice0[i],V_left_slice[i]):\n",
    "        print(f'left slices #{i} differs')\n",
    "\n",
    "#generating more slices with new general function \n",
    "slice_num =3 # <-- Set it\n",
    "V_right_slice,  V_left_slice = gu.add_horizontal_slices_to_symmetry_pro(symmetry_data, sV, slice_num)\n",
    "\n",
    "#color each segment \n",
    "slice_col = symm_col.copy()\n",
    "vert_colors = cm.Set3(np.linspace(0, 1, slice_num))\n",
    "for si in range(slice_num):\n",
    "    slice_col[V_right_slice[si],:] =  vert_colors[si,0:3]\n",
    "    slice_col[V_left_slice[si], :] =  np.array([1,1,1]) - vert_colors[si,0:3]"
   ],
   "outputs": [],
   "metadata": {}
  },
  {
   "cell_type": "code",
   "execution_count": 27,
   "source": [
    "mu.Out('All possible symmetrization with top-bottom hirizontal cuts')\n",
    "#all_symm_types = list(itertools.permutations([1,2,3], 2) ) #exclude  symmetrizations that are of the same type for all slices (e.g. (1,1))\n",
    "all_symm_types = list(itertools.product([1,2,3], repeat = slice_num) )\n",
    "\n",
    "\n",
    "symmetry_data['V_right_slice'] = V_right_slice\n",
    "symmetry_data['V_left_slice']  = V_left_slice\n",
    "\n",
    "shading    = dict(wireframe=False, line_color= [0.1,0.1,0.1], width=1000, height=1500, wire_width=0.01, flat=False, line_width=0.01)\n",
    "shading_wf = shading.copy()\n",
    "shading_wf['wireframe'] = True\n",
    "shadings = [shading, shading, shading_wf, shading_wf]\n",
    "symm_solid_col = [0,1,0,0.6]\n",
    "orig_solid_col = [0.5,0.5,0.5,0.6]\n",
    "\n",
    "draw_in_single_table = True\n",
    "#for symm_type in all_symm_types:\n",
    "mesh_list = []\n",
    "all_symm_types = [(0,)*slice_num] + all_symm_types #add non symmetric mesh to be the first\n",
    "all_symm_types = all_symm_types[0:5] #take subrange for debug\n",
    "print(all_symm_types)\n",
    "for symm_type in all_symm_types:\n",
    "    Out(f'symmetrization type={symm_type}')\n",
    "    V_symm   = gu.symmetrize_sliced_mesh(V,symmetry_data, symm_type)\n",
    "    print(f'Distance from original mesh = {igl.hausdorff(V,F, V_symm,F)}')\n",
    "    gu.measure_symmetries(V_symm,F, V_right, V_opposite, {'verbose':True} )\n",
    "    col_symm = gu.symmetrize_sliced_mesh(slice_col,symmetry_data, symm_type)\n",
    "    col_symm =np.abs(col_symm)\n",
    "    symm_alpha_col = np.column_stack( (col_symm,  0.6 * np.ones(col_symm.shape[0])) )\n",
    "    col_symm_pnt = col_symm.copy() #better highlight for middle points \n",
    "    col_symm_pnt[V_middle,:] = np.array([0,0,0])\n",
    "    mesh_list +=  [     [sV,     sF, col_symm], \\\n",
    "                        [V_symm, F,  col_symm],\\\n",
    "                        mu.StackMeshes( ([V,  F, orig_solid_col], [V_symm,    F, symm_alpha_col]) )\\\n",
    "                 ]\n",
    "        # if draw_in_single_table:\n",
    "        #     mu.DrawMeshes(None, [ [sV,  sF,  0.5*col_symm, all_vert,   col_symm_pnt], \\\n",
    "        #                         [V_symm,    F, 0.5*col_symm, all_vert, col_symm_pnt],\\\n",
    "        #                         [V,  F, [0,1,0] ], \\\n",
    "        #                         mu.StackMeshes( ([V,  F, orig_solid_col], [V_symm,    F, symm_solid_col]) ), \\\n",
    "        #                     ], shifts =[(1.5,0,0), (1.5,0,0), (1.5,0,0), (0,0,0) ],mesh_shading = shadings,  point_shading=dict(point_size= 0.1))\n",
    "\n",
    "nrow = len(all_symm_types)\n",
    "mesh_table = mu.MeshList2Table(mesh_list,nrow, 3, copy_elements =True) #deesn't work without  'copy_elements' because  mesh_list elements point several time  to the same mesh  \n",
    "mu.DrawMeshTable(None,mesh_table, col_shift=np.array([1.5, 1.5, 0]),\\\n",
    "                                    row_shift = -1.3, mesh_shading = shading,  point_shading = dict(point_size= 0.08) )"
   ],
   "outputs": [
    {
     "output_type": "display_data",
     "data": {
      "text/plain": [
       "<IPython.core.display.Markdown object>"
      ],
      "text/markdown": [
       "### All possible symmetrization with top-bottom hirizontal cuts"
      ]
     },
     "metadata": {}
    },
    {
     "output_type": "stream",
     "name": "stdout",
     "text": [
      "[(0, 0, 0), (1, 1, 1), (1, 1, 2), (1, 1, 3), (1, 2, 1)]\n"
     ]
    },
    {
     "output_type": "display_data",
     "data": {
      "text/plain": [
       "<IPython.core.display.Markdown object>"
      ],
      "text/markdown": [
       "### symmetrization type=(0, 0, 0)"
      ]
     },
     "metadata": {}
    },
    {
     "output_type": "stream",
     "name": "stdout",
     "text": [
      "Distance from original mesh = 0.004409028157781923\n",
      "Mean-max Index and geometric Symmetry errors = (0.0306, 0.2730,0.0296)\n"
     ]
    },
    {
     "output_type": "display_data",
     "data": {
      "text/plain": [
       "<IPython.core.display.Markdown object>"
      ],
      "text/markdown": [
       "### symmetrization type=(1, 1, 1)"
      ]
     },
     "metadata": {}
    },
    {
     "output_type": "stream",
     "name": "stdout",
     "text": [
      "Distance from original mesh = 0.015552056303759613\n",
      "Mean-max Index and geometric Symmetry errors = (0.0000, 0.0000,0.0000)\n"
     ]
    },
    {
     "output_type": "display_data",
     "data": {
      "text/plain": [
       "<IPython.core.display.Markdown object>"
      ],
      "text/markdown": [
       "### symmetrization type=(1, 1, 2)"
      ]
     },
     "metadata": {}
    },
    {
     "output_type": "stream",
     "name": "stdout",
     "text": [
      "Distance from original mesh = 0.015552056303759613\n",
      "Mean-max Index and geometric Symmetry errors = (0.0000, 0.0000,0.0000)\n"
     ]
    },
    {
     "output_type": "display_data",
     "data": {
      "text/plain": [
       "<IPython.core.display.Markdown object>"
      ],
      "text/markdown": [
       "### symmetrization type=(1, 1, 3)"
      ]
     },
     "metadata": {}
    },
    {
     "output_type": "stream",
     "name": "stdout",
     "text": [
      "Distance from original mesh = 0.015552056303759613\n",
      "Mean-max Index and geometric Symmetry errors = (0.0000, 0.0000,0.0000)\n"
     ]
    },
    {
     "output_type": "display_data",
     "data": {
      "text/plain": [
       "<IPython.core.display.Markdown object>"
      ],
      "text/markdown": [
       "### symmetrization type=(1, 2, 1)"
      ]
     },
     "metadata": {}
    },
    {
     "output_type": "stream",
     "name": "stdout",
     "text": [
      "Distance from original mesh = 0.015552056303759613\n",
      "Mean-max Index and geometric Symmetry errors = (0.0000, 0.0000,0.0000)\n"
     ]
    },
    {
     "output_type": "display_data",
     "data": {
      "text/plain": [
       "Renderer(camera=PerspectiveCamera(aspect=0.6666666666666666, children=(DirectionalLight(color='white', intensi…"
      ],
      "application/vnd.jupyter.widget-view+json": {
       "version_major": 2,
       "version_minor": 0,
       "model_id": "f30e6caff8d942d4ae5a96ab77d2264a"
      }
     },
     "metadata": {}
    },
    {
     "output_type": "execute_result",
     "data": {
      "text/plain": [
       "<meshplot.Viewer.Viewer at 0x7fa242843c50>"
      ]
     },
     "metadata": {},
     "execution_count": 27
    }
   ],
   "metadata": {}
  },
  {
   "cell_type": "code",
   "execution_count": 35,
   "source": [
    "#Generate command line to  tests MCMR network with all  possible symmetrization \n",
    "def is_same_elememts(x):\n",
    "    return x and [x[0]]*len(x) == list(x)\n",
    "\n",
    "all_symm_types =  [(0,)*slice_num] +  list(itertools.product([1,2,3], repeat = slice_num) )\n",
    "#print(all_symm_types)\n",
    "const_symm_type = []\n",
    "#print(f'Different symmetrizations per slice\"\\n')\n",
    "i =0 \n",
    "for symm_type in all_symm_types:\n",
    "    i =i+1\n",
    "    #print(symm_type)\n",
    "    if is_same_elememts(symm_type): \n",
    "        const_symm_type.append(str(symm_type[0]))\n",
    "    else:\n",
    "        symm_type_str =[str(s) for s in symm_type]\n",
    "        \n",
    "        symm_arg = \" \".join(symm_type_str)\n",
    "        tag      = \"_\".join(symm_type_str)\n",
    "        print(f'{i:02d} bash scripts/test_mcmr_pascal3d.sh <network> <shape_num>   \"<classes>\"  $datasize  \"--qualitative_results --symmetrize {symm_arg}\" symmetric_{tag}')\n",
    "\n",
    "print(f'same symmetrizations per slice: \\n' )\n",
    "for symm_type in const_symm_type:    \n",
    "    print(f'bash scripts/test_mcmr_pascal3d.sh <network> <shape_num>   \"<classes>\"  $datasize  \"--qualitative_results --symmetrize {symm_type}\" symmetric_{symm_type}')\n",
    "\n"
   ],
   "outputs": [
    {
     "output_type": "stream",
     "name": "stdout",
     "text": [
      "3 bash scripts/test_mcmr_pascal3d.sh <network> <shape_num>   \"<classes>\"  $datasize  \"--qualitative_results --symmetrize 1 1 2\" symmetric_1_1_2\n",
      "4 bash scripts/test_mcmr_pascal3d.sh <network> <shape_num>   \"<classes>\"  $datasize  \"--qualitative_results --symmetrize 1 1 3\" symmetric_1_1_3\n",
      "5 bash scripts/test_mcmr_pascal3d.sh <network> <shape_num>   \"<classes>\"  $datasize  \"--qualitative_results --symmetrize 1 2 1\" symmetric_1_2_1\n",
      "6 bash scripts/test_mcmr_pascal3d.sh <network> <shape_num>   \"<classes>\"  $datasize  \"--qualitative_results --symmetrize 1 2 2\" symmetric_1_2_2\n",
      "7 bash scripts/test_mcmr_pascal3d.sh <network> <shape_num>   \"<classes>\"  $datasize  \"--qualitative_results --symmetrize 1 2 3\" symmetric_1_2_3\n",
      "8 bash scripts/test_mcmr_pascal3d.sh <network> <shape_num>   \"<classes>\"  $datasize  \"--qualitative_results --symmetrize 1 3 1\" symmetric_1_3_1\n",
      "9 bash scripts/test_mcmr_pascal3d.sh <network> <shape_num>   \"<classes>\"  $datasize  \"--qualitative_results --symmetrize 1 3 2\" symmetric_1_3_2\n",
      "10 bash scripts/test_mcmr_pascal3d.sh <network> <shape_num>   \"<classes>\"  $datasize  \"--qualitative_results --symmetrize 1 3 3\" symmetric_1_3_3\n",
      "11 bash scripts/test_mcmr_pascal3d.sh <network> <shape_num>   \"<classes>\"  $datasize  \"--qualitative_results --symmetrize 2 1 1\" symmetric_2_1_1\n",
      "12 bash scripts/test_mcmr_pascal3d.sh <network> <shape_num>   \"<classes>\"  $datasize  \"--qualitative_results --symmetrize 2 1 2\" symmetric_2_1_2\n",
      "13 bash scripts/test_mcmr_pascal3d.sh <network> <shape_num>   \"<classes>\"  $datasize  \"--qualitative_results --symmetrize 2 1 3\" symmetric_2_1_3\n",
      "14 bash scripts/test_mcmr_pascal3d.sh <network> <shape_num>   \"<classes>\"  $datasize  \"--qualitative_results --symmetrize 2 2 1\" symmetric_2_2_1\n",
      "16 bash scripts/test_mcmr_pascal3d.sh <network> <shape_num>   \"<classes>\"  $datasize  \"--qualitative_results --symmetrize 2 2 3\" symmetric_2_2_3\n",
      "17 bash scripts/test_mcmr_pascal3d.sh <network> <shape_num>   \"<classes>\"  $datasize  \"--qualitative_results --symmetrize 2 3 1\" symmetric_2_3_1\n",
      "18 bash scripts/test_mcmr_pascal3d.sh <network> <shape_num>   \"<classes>\"  $datasize  \"--qualitative_results --symmetrize 2 3 2\" symmetric_2_3_2\n",
      "19 bash scripts/test_mcmr_pascal3d.sh <network> <shape_num>   \"<classes>\"  $datasize  \"--qualitative_results --symmetrize 2 3 3\" symmetric_2_3_3\n",
      "20 bash scripts/test_mcmr_pascal3d.sh <network> <shape_num>   \"<classes>\"  $datasize  \"--qualitative_results --symmetrize 3 1 1\" symmetric_3_1_1\n",
      "21 bash scripts/test_mcmr_pascal3d.sh <network> <shape_num>   \"<classes>\"  $datasize  \"--qualitative_results --symmetrize 3 1 2\" symmetric_3_1_2\n",
      "22 bash scripts/test_mcmr_pascal3d.sh <network> <shape_num>   \"<classes>\"  $datasize  \"--qualitative_results --symmetrize 3 1 3\" symmetric_3_1_3\n",
      "23 bash scripts/test_mcmr_pascal3d.sh <network> <shape_num>   \"<classes>\"  $datasize  \"--qualitative_results --symmetrize 3 2 1\" symmetric_3_2_1\n",
      "24 bash scripts/test_mcmr_pascal3d.sh <network> <shape_num>   \"<classes>\"  $datasize  \"--qualitative_results --symmetrize 3 2 2\" symmetric_3_2_2\n",
      "25 bash scripts/test_mcmr_pascal3d.sh <network> <shape_num>   \"<classes>\"  $datasize  \"--qualitative_results --symmetrize 3 2 3\" symmetric_3_2_3\n",
      "26 bash scripts/test_mcmr_pascal3d.sh <network> <shape_num>   \"<classes>\"  $datasize  \"--qualitative_results --symmetrize 3 3 1\" symmetric_3_3_1\n",
      "27 bash scripts/test_mcmr_pascal3d.sh <network> <shape_num>   \"<classes>\"  $datasize  \"--qualitative_results --symmetrize 3 3 2\" symmetric_3_3_2\n",
      "same symmetrizations per slice: \n",
      "\n",
      "bash scripts/test_mcmr_pascal3d.sh <network> <shape_num>   \"<classes>\"  $datasize  \"--qualitative_results --symmetrize 0\" symmetric_0\n",
      "bash scripts/test_mcmr_pascal3d.sh <network> <shape_num>   \"<classes>\"  $datasize  \"--qualitative_results --symmetrize 1\" symmetric_1\n",
      "bash scripts/test_mcmr_pascal3d.sh <network> <shape_num>   \"<classes>\"  $datasize  \"--qualitative_results --symmetrize 2\" symmetric_2\n",
      "bash scripts/test_mcmr_pascal3d.sh <network> <shape_num>   \"<classes>\"  $datasize  \"--qualitative_results --symmetrize 3\" symmetric_3\n"
     ]
    }
   ],
   "metadata": {}
  },
  {
   "cell_type": "code",
   "execution_count": 10,
   "source": [
    "print(all_symm_types)"
   ],
   "outputs": [
    {
     "output_type": "stream",
     "name": "stdout",
     "text": [
      "[(0, 0), (1, 1), (1, 2), (1, 3), (2, 1), (2, 2), (2, 3), (3, 1), (3, 2), (3, 3)]\n"
     ]
    }
   ],
   "metadata": {}
  }
 ],
 "metadata": {
  "orig_nbformat": 4,
  "language_info": {
   "name": "python",
   "version": "3.6.15",
   "mimetype": "text/x-python",
   "codemirror_mode": {
    "name": "ipython",
    "version": 3
   },
   "pygments_lexer": "ipython3",
   "nbconvert_exporter": "python",
   "file_extension": ".py"
  },
  "kernelspec": {
   "name": "python3",
   "display_name": "Python 3.6.15 64-bit ('mcmr_p3d': conda)"
  },
  "interpreter": {
   "hash": "40a7c3a31a77cca282bff2dd27dbd8c94961db818471199cfda1f2ce4a24359c"
  }
 },
 "nbformat": 4,
 "nbformat_minor": 2
}