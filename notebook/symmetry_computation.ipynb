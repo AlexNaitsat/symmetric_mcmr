{
 "cells": [
  {
   "cell_type": "markdown",
   "source": [
    "# Symmetry related computation to get auxilary data and to test symmetrization features for MCMR "
   ],
   "metadata": {}
  },
  {
   "cell_type": "code",
   "execution_count": 3,
   "source": [
    "import meshzoo\n",
    "import numpy as np\n",
    "import igl\n",
    "import meshplot as mp\n",
    "import scipy.io\n",
    "import utils.geometry as gu\n",
    "import meshplot_utils as mu\n",
    "\n",
    "#to reload packages\n",
    "import importlib\n",
    "importlib.reload(mu)\n",
    "importlib.reload(gu)\n",
    "from matplotlib import cm \n",
    "\n"
   ],
   "outputs": [],
   "metadata": {}
  },
  {
   "cell_type": "code",
   "execution_count": 4,
   "source": [
    "shading_dic = dict(wireframe=True, width=1000)\n",
    "resolutions= [2,3,4]\n",
    "def reflectX(xyz):\n",
    "    if len(xyz.shape)==2:\n",
    "        return  np.concatenate( (-xyz[:,0:1], xyz[:,1:3]), axis=1) \n",
    "    else:\n",
    "        return  np.concatenate( (-xyz[0:1], xyz[1:3]) ) \n",
    "\n",
    "npy_file     = '../auxilary/icoshpere_meshes.npy'\n",
    "npy_sub_file = '../auxilary/icoshpere_mesh_subdivision_1.npy'\n"
   ],
   "outputs": [],
   "metadata": {}
  },
  {
   "cell_type": "markdown",
   "source": [
    "## Computing left-right partition of eco-sphere meshes wich were used to intinialize mean-shape in MCMR\n",
    "* visualizing partition between vertices of left-right parts and vertices at the middle (x=0) and marking in red non-symmetric vertices (reported)\n",
    "* Save these vertex partitions into [auxilary/icoshpere_partitions.npy](../auxilary/icoshpere_partitions.npy) \n",
    "* `V_left`, `V_right`, `V_middle` are vertex indixes of different parts and `V_opposite[i]` = index of the vertex opposite to the i_th vertex "
   ],
   "metadata": {}
  },
  {
   "cell_type": "code",
   "execution_count": 13,
   "source": [
    "#save ico-sphere meshes and their partition \n",
    "p=[]\n",
    "eps = 1e-6\n",
    "icoshpere_meshes = dict()\n",
    "for s_num in resolutions:\n",
    "    V, F = meshzoo.icosa_sphere(n=s_num)\n",
    "\n",
    "    V_right =  np.nonzero(V[:,0] > 0)[0]\n",
    "    V_left  =  np.nonzero(V[:,0] < 0)[0]\n",
    "    V_opposite = -np.ones((V.shape[0],),dtype=int)\n",
    "    for v in range(0, V.shape[0]):\n",
    "        #opposite_index = np.where(np.all(V == reflectX(V[v,:]), 1) )[0]\n",
    "        opposite_index =  np.where(np.linalg.norm(V - reflectX(V[v,:]), axis =1) < eps)[0]\n",
    "        if opposite_index.size:\n",
    "            V_opposite[v] = opposite_index\n",
    "        else:\n",
    "            print(f'vertex {v}, coord  = {reflectX(V[v,:])}')\n",
    "    V_middle = np.nonzero(np.arange(0,V_opposite.shape[0]) == V_opposite)[0]\n",
    "    print(f'CheckSum: V_right + V_left + V_middle = {len(V_right) + len(V_left) + len(V_middle)}, Vert nium ={V.shape[0]}')\n",
    "    # -W- set V_left = V_opposite[V_left] to macth right index order \n",
    "    icoshpere_meshes[s_num] = {'V':V,'F':F, 'V_left': np.nonzero(V[:,0] < 0)[0], \n",
    "                               'V_right':np.nonzero(V[:,0] > 0)[0], \n",
    "                               'V_middle':V_middle, \n",
    "                               'V_opposite':V_opposite,\n",
    "                               }  \n",
    "     \n",
    "    slice_num = 3\n",
    "    V_right_slice, V_left_slice = gu.add_horizontal_slices_to_symmetry_pro(icoshpere_meshes[s_num], V, slice_num)  ## computing left/right horizontal slices ('V_right_slice', 'V_left_slice')\n",
    "    #V_right_slice, V_left_slice = gu.add_horizontal_slices_to_symmetry(icoshpere_meshes[s_num], V) ## computing left/right horizontal slices ('V_right_slice', 'V_left_slice')\n",
    "\n",
    "    print(f'icosa_sphere{s_num}, ({V.shape[0]} vertices) non symmetric vertices = { np.where(V_opposite == -1)[0].tolist()}')\n",
    "    print(f'X coordinate of middle vertices = {V[V_middle,0]}')\n",
    "\n",
    "    color = np.zeros_like(V)\n",
    "    color[V[:,0] < 0,:] = [0,1,0]\n",
    "    color[V[:,0] > 0,:] = [0,0,1]\n",
    "    color[V_opposite == -1,: ] = [1,0,0]\n",
    "    print('Visualize Left-Right symmetry')\n",
    "    if s_num == resolutions[0]: \n",
    "        V_mid_pnt = V[V_middle,:]\n",
    "        p=mp.plot(V,F, shading = shading_dic)\n",
    "        p.add_points(V, c =color, shading={\"point_size\": 1})\n",
    "        p.add_points(V_mid_pnt, c = mu.color4plot([0.7,0.7,0.7], V_mid_pnt), shading={\"point_size\": 0.5})\n",
    "    else:\n",
    "        V_shifted = V+ [3*(s_num - resolutions[0]),0,0]\n",
    "        V_mid_pnt = V_shifted[V_middle,:]\n",
    "        p.add_mesh(V_shifted, F, shading = shading_dic)\n",
    "        p.add_points(V_shifted, c =color, shading={\"point_size\": 1})\n",
    "        p.add_points(V_mid_pnt, c = mu.color4plot([0.7,0.7,0.7], V_mid_pnt), shading={\"point_size\": 0.5})\n",
    "\n",
    "    print(f'Visualize Left-Right symmetry with {slice_num} horizontal  slices from top to bottom ')\n",
    "    color_slice = color.copy()\n",
    "    vert_colors = cm.Set3(np.linspace(0, 1, slice_num))\n",
    "    for si in range(slice_num):\n",
    "        color_slice[V_right_slice[si],:] =  vert_colors[si,0:3]\n",
    "        color_slice[V_left_slice[si], :] =  np.array([1,1,1]) - vert_colors[si,0:3]\n",
    "    # color_slice[V_right_slice[1],:] =[1,1,0]\n",
    "    # color_slice[V_left_slice[1], :] =[0,1,1]\n",
    "    \n",
    "    if s_num == resolutions[0]: \n",
    "        V_mid_pnt = V[V_middle,:]\n",
    "        p1=mp.plot(V,F, shading = shading_dic)\n",
    "        p1.add_points(V, c =color_slice, shading={\"point_size\": 1})\n",
    "        p1.add_points(V_mid_pnt, c = mu.color4plot([0.7,0.7,0.7], V_mid_pnt), shading={\"point_size\": 0.5})\n",
    "\n",
    "    else:\n",
    "        V_shifted = V+ [3*(s_num - resolutions[0]),0,0]\n",
    "        V_mid_pnt = V_shifted[V_middle,:]\n",
    "        p1.add_mesh(V_shifted, F, shading = shading_dic)\n",
    "        p1.add_points(V_shifted, c =color_slice, shading={\"point_size\": 1})\n",
    "        p1.add_points(V_mid_pnt, c = mu.color4plot([0.7,0.7,0.7], V_mid_pnt), shading={\"point_size\": 0.5})\n",
    "\n",
    "\n",
    "np.save(npy_file,icoshpere_meshes,  allow_pickle =True)"
   ],
   "outputs": [
    {
     "output_type": "stream",
     "name": "stdout",
     "text": [
      "CheckSum: V_right + V_left + V_middle = 42, Vert nium =42\n",
      "icosa_sphere2, (42 vertices) non symmetric vertices = []\n",
      "X coordinate of middle vertices = [0. 0. 0. 0. 0. 0. 0. 0.]\n",
      "Visualize Left-Right symmetry with 3 horizontal  slices from top to bottom \n"
     ]
    },
    {
     "output_type": "display_data",
     "data": {
      "text/plain": [
       "Renderer(camera=PerspectiveCamera(aspect=1.6666666666666667, children=(DirectionalLight(color='white', intensi…"
      ],
      "application/vnd.jupyter.widget-view+json": {
       "version_major": 2,
       "version_minor": 0,
       "model_id": "61e9fd99784e404e9d5bb91ab08b2101"
      }
     },
     "metadata": {}
    },
    {
     "output_type": "stream",
     "name": "stdout",
     "text": [
      "CheckSum: V_right + V_left + V_middle = 96, Vert nium =92\n",
      "icosa_sphere3, (92 vertices) non symmetric vertices = []\n",
      "X coordinate of middle vertices = [ 0.00000000e+00  0.00000000e+00  0.00000000e+00  0.00000000e+00\n",
      "  0.00000000e+00  0.00000000e+00  0.00000000e+00  0.00000000e+00\n",
      " -7.34506387e-17 -7.34506387e-17  7.34506387e-17  7.34506387e-17]\n",
      "Visualize Left-Right symmetry with 3 horizontal  slices from top to bottom \n",
      "CheckSum: V_right + V_left + V_middle = 162, Vert nium =162\n",
      "icosa_sphere4, (162 vertices) non symmetric vertices = []\n",
      "X coordinate of middle vertices = [0. 0. 0. 0. 0. 0. 0. 0. 0. 0. 0. 0. 0. 0. 0. 0.]\n",
      "Visualize Left-Right symmetry with 3 horizontal  slices from top to bottom \n"
     ]
    }
   ],
   "metadata": {}
  },
  {
   "cell_type": "code",
   "execution_count": 7,
   "source": [
    "#visualize the saved data\n",
    "data = np.load(npy_file, allow_pickle = True).item()\n",
    "#print(data[2])\n",
    "\n",
    "\n",
    "#p=[]\n",
    "for s_num in  [2,3,4]:\n",
    "    m = data[s_num]\n",
    "    color = np.zeros_like(m['V'])\n",
    "    color[m['V_left']] = [1,0,0] \n",
    "    color[m['V_right']] = [0,0,1] \n",
    "    V =m['V'].copy()\n",
    "    \n",
    "    V_right = m['V_right']\n",
    "    V_opposite = m['V_opposite']\n",
    "    #color4pairs =  V\n",
    "    #color4pairs[V_right,:]  = V[V_opposite[V_right],:]\n",
    "    color4pairs = np.array(range(0,V.shape[0]))\n",
    "    color4pairs[V_right] = V_opposite[V_right]\n",
    "\n",
    "    # if s_num ==2: \n",
    "    p=mp.plot(m['V'],m['F'], shading = shading_dic)\n",
    "    p.add_points(m['V'], c =color, shading={\"point_size\": 0.8})\n",
    "    p.add_points(m['V'], c =color4pairs, shading={\"point_size\": 0.5})\n",
    "    # else:\n",
    "    #     V_shifted = m['V']+ [3*(s_num - 2),0,0]\n",
    "    #     p.add_mesh(V_shifted, m['F'], shading = shading_dic)\n",
    "    #     p.add_points(V_shifted, c =color, shading={\"point_size\": 1})\n",
    "    #     p.add_points(V_shifted, c =color4pairs, shading={\"point_size\": 0.5})\n",
    "        \n"
   ],
   "outputs": [
    {
     "output_type": "display_data",
     "data": {
      "text/plain": [
       "Renderer(camera=PerspectiveCamera(children=(DirectionalLight(color='white', intensity=0.6, position=(0.0, 0.0,…"
      ],
      "application/vnd.jupyter.widget-view+json": {
       "version_major": 2,
       "version_minor": 0,
       "model_id": "9f34c9edbc9c4f04a9beda86aa7cabc8"
      }
     },
     "metadata": {}
    },
    {
     "output_type": "display_data",
     "data": {
      "text/plain": [
       "Renderer(camera=PerspectiveCamera(children=(DirectionalLight(color='white', intensity=0.6, position=(0.0, 0.0,…"
      ],
      "application/vnd.jupyter.widget-view+json": {
       "version_major": 2,
       "version_minor": 0,
       "model_id": "de1c2d9e208341b6a9ec8e8cd1c4ae16"
      }
     },
     "metadata": {}
    },
    {
     "output_type": "display_data",
     "data": {
      "text/plain": [
       "Renderer(camera=PerspectiveCamera(children=(DirectionalLight(color='white', intensity=0.6, position=(0.0, 0.0,…"
      ],
      "application/vnd.jupyter.widget-view+json": {
       "version_major": 2,
       "version_minor": 0,
       "model_id": "9a891005f9c54ccdbc819377aafb8741"
      }
     },
     "metadata": {}
    }
   ],
   "metadata": {}
  },
  {
   "cell_type": "markdown",
   "source": [
    "## Loading saved results to validate its correctness \n",
    "* First, visualzing vertex partition and coloring left-right vertex pairs by the same color\n",
    "* Then, drawing meshes in which left vertices were reflected to the right "
   ],
   "metadata": {}
  },
  {
   "cell_type": "code",
   "execution_count": 8,
   "source": [
    "# visualize the symmetrization \n",
    "p=[]\n",
    "for s_num in resolutions:\n",
    "    m = data[s_num]\n",
    "    color = np.zeros_like(m['V'])\n",
    "    color[m['V_left']]  = [1,0,0] \n",
    "    color[m['V_right']] = [0,0,1] \n",
    "    \n",
    "    V = m['V'].copy() #reflect vertex coordinate from the right to the left\n",
    "    #V[m['V_left'],:]  =  V[m['V_right'],:]\n",
    "    #V[m['V_left'], 0] =  -V[m['V_left'], 0] \n",
    "    V_right = m['V_right']\n",
    "    V_opposite = m['V_opposite']\n",
    "    V[V_right,:] = V[V_opposite[V_right],:]\n",
    "    V[V_right,0] = -V[V_opposite[V_right],0]\n",
    "\n",
    "    if s_num ==2: \n",
    "        p = mp.plot(m['V'], m['F'], shading = shading_dic)\n",
    "        p.add_points(V, c =color, shading={\"point_size\": 1})\n",
    "    else:\n",
    "        V_shifted = V + [3*(s_num - resolutions[0]),0,0]\n",
    "        p.add_mesh(V_shifted, m['F'], shading = shading_dic)\n",
    "        p.add_points(V_shifted, c =color, shading={\"point_size\": 1})"
   ],
   "outputs": [
    {
     "output_type": "display_data",
     "data": {
      "text/plain": [
       "Renderer(camera=PerspectiveCamera(children=(DirectionalLight(color='white', intensity=0.6, position=(0.0, 0.0,…"
      ],
      "application/vnd.jupyter.widget-view+json": {
       "version_major": 2,
       "version_minor": 0,
       "model_id": "740f071f774846b585fa842d241560a8"
      }
     },
     "metadata": {}
    }
   ],
   "metadata": {}
  },
  {
   "cell_type": "markdown",
   "source": [
    "## Computing left-right partition of subdevided eco-sphere mesh which are used in MCMR evaluation/train\n",
    "* visualizing partition between vertices of left-right parts and vertices at the middle (x=0) and marking in red non-symmetric vertices (reported)\n",
    "* Save these vertex partitions into [auxilary/icoshpere_mesh_subdivision_1.npy](../auxilary/icoshpere_mesh_subdivision_1.npy) \n",
    "* `V_left`, `V_right`, `V_middle` are vertex indixes of different parts and `V_opposite[i]` = index of the vertex opposite to the i_th vertex icoshpere_mesh_subdivision_1"
   ],
   "metadata": {}
  },
  {
   "cell_type": "code",
   "execution_count": 16,
   "source": [
    "import torch \n",
    "from pytorch3d.ops import SubdivideMeshes\n",
    "from pytorch3d.structures import Meshes\n",
    "\n",
    "\n",
    "#save ico-sphere meshes and their partition \n",
    "p=[]\n",
    "eps = 1e-6\n",
    "icoshpere_meshes = dict()\n",
    "shading_dic = dict(wireframe=True, width=1000)\n",
    "resolutions= [2,3,4]\n",
    "for s_num in resolutions:\n",
    "\n",
    "    #subdivide eco-shpera using Pytorch3D fucnitos from MCMR model code \n",
    "    V_old, F_old = meshzoo.icosa_sphere(n=s_num) \n",
    "    old_mesh = Meshes(verts=[torch.from_numpy(V_old).detach()], faces=[torch.from_numpy(F_old).detach()])\n",
    "    subdivider = SubdivideMeshes(old_mesh)\n",
    "    new_mesh = subdivider(old_mesh)  # type: Meshes\n",
    "    V = new_mesh.verts_packed().detach().cpu().numpy()\n",
    "    F = new_mesh.faces_packed().detach().cpu().numpy()\n",
    "\n",
    "    color = np.zeros_like(V)\n",
    "    color[V[:,0] < 0,:] = [0,1,0]\n",
    "    color[V[:,0] > 0,:] = [0,0,1]\n",
    "    V_right =  np.nonzero(V[:,0] > 0)[0]\n",
    "    V_left  =  np.nonzero(V[:,0] < 0)[0]\n",
    "    V_opposite = -np.ones((V.shape[0],),dtype=int)\n",
    "    for v in range(0, V.shape[0]):\n",
    "        #opposite_index = np.where(np.all(V == reflectX(V[v,:]), 1) )[0]\n",
    "        opposite_index =  np.where(np.linalg.norm(V - reflectX(V[v,:]), axis =1) < eps)[0]\n",
    "        if opposite_index.size:\n",
    "            V_opposite[v] = opposite_index\n",
    "        else:\n",
    "            print(f'vertex {v}, coord  = {reflectX(V[v,:])}')\n",
    "\n",
    "    V_middle = np.nonzero(V[:,0] == 0)[0]\n",
    "    print(f'CheckSum: V_right + V_left + V_middle = {len(V_right) + len(V_left) + len(V_middle)}, Vert nium ={V.shape[0]}')\n",
    "    \n",
    "\n",
    "    print(f'icosa_sphere{s_num}, ({V.shape[0]} vertices) non symmetric vertices = { np.where(V_opposite == -1)[0].tolist()}')\n",
    "    color[V_opposite == -1,: ] = [1,0,0]\n",
    "    # print('Visualize Left-Right symmetry')\n",
    "    # if s_num == resolutions[0]: \n",
    "    #     V_mid_pnt = V[V_middle,:]\n",
    "    #     p=mp.plot(V,F, shading = shading_dic)\n",
    "    #     p.add_points(V, c =color, shading={\"point_size\": 1})\n",
    "    #     p.add_points(V_mid_pnt, c = mu.color4plot([0.7,0.7,0.7], V_mid_pnt), shading={\"point_size\": 0.5})\n",
    "    # else:\n",
    "    #     V_shifted = V+ [3*(s_num - resolutions[0]),0,0]\n",
    "    #     V_mid_pnt = V_shifted[V_middle,:]\n",
    "    #     p.add_mesh(V_shifted, F, shading = shading_dic)\n",
    "    #     p.add_points(V_shifted, c =color, shading={\"point_size\": 1})\n",
    "    #     p.add_points(V_mid_pnt, c = mu.color4plot([0.7,0.7,0.7], V_mid_pnt), shading={\"point_size\": 0.5})\n",
    "        \n",
    "    \n",
    "    icoshpere_meshes[s_num] = {'V':V,'F':F, 'V_left': np.nonzero(V[:,0] < 0)[0], \n",
    "                               'V_right':np.nonzero(V[:,0] > 0)[0], \n",
    "                               'V_middle':V_middle, \n",
    "                               'V_opposite':V_opposite}  \n",
    "    slice_num = 3\n",
    "    V_right_slice, V_left_slice = gu.add_horizontal_slices_to_symmetry_pro(icoshpere_meshes[s_num], V, slice_num)  ## computing left/right horizontal slices ('V_right_slice', 'V_left_slice')\n",
    "\n",
    "    #V_right_slice, V_left_slice = gu.add_horizontal_slices_to_symmetry(icoshpere_meshes[s_num], V) ## computing left/right horizontal slices ('V_right_slice', 'V_left_slice')\n",
    "\n",
    "    print('Visualize Left-Right symmetry with {slice_num} horizontal slices from top to bottom')\n",
    "    color_slice = color.copy()\n",
    "    vert_colors = cm.Set3(np.linspace(0, 1, slice_num))\n",
    "    for si in range(slice_num):\n",
    "        color_slice[V_right_slice[si],:] =  vert_colors[si,0:3]\n",
    "        color_slice[V_left_slice[si], :] =  np.array([1,1,1]) - vert_colors[si,0:3]\n",
    "\n",
    "    # color_slice[V_right_slice[1],:] =[1,1,0]\n",
    "    # color_slice[V_left_slice[1], :] =[0,1,1]\n",
    "    \n",
    "    if s_num == resolutions[0]: \n",
    "        V_mid_pnt = V[V_middle,:]\n",
    "        p1=mp.plot(V,F, shading = shading_dic)\n",
    "        p1.add_points(V, c =color_slice, shading={\"point_size\": 1})\n",
    "        p1.add_points(V_mid_pnt, c = mu.color4plot([0.7,0.7,0.7], V_mid_pnt), shading={\"point_size\": 0.5})\n",
    "\n",
    "    else:\n",
    "        V_shifted = V+ [3*(s_num - resolutions[0]),0,0]\n",
    "        V_mid_pnt = V_shifted[V_middle,:]\n",
    "        p1.add_mesh(V_shifted, F, shading = shading_dic)\n",
    "        p1.add_points(V_shifted, c =color_slice, shading={\"point_size\": 1})\n",
    "        p1.add_points(V_mid_pnt, c = mu.color4plot([0.7,0.7,0.7], V_mid_pnt), shading={\"point_size\": 0.5})\n",
    "\n",
    "np.save(npy_sub_file,icoshpere_meshes,  allow_pickle =True)"
   ],
   "outputs": [
    {
     "output_type": "stream",
     "name": "stdout",
     "text": [
      "CheckSum: V_right + V_left + V_middle = 162, Vert nium =162\n",
      "icosa_sphere2, (162 vertices) non symmetric vertices = []\n",
      "Visualize Left-Right symmetry with {slice_num} horizontal slices from top to bottom\n"
     ]
    },
    {
     "output_type": "display_data",
     "data": {
      "text/plain": [
       "Renderer(camera=PerspectiveCamera(aspect=1.6666666666666667, children=(DirectionalLight(color='white', intensi…"
      ],
      "application/vnd.jupyter.widget-view+json": {
       "version_major": 2,
       "version_minor": 0,
       "model_id": "9238b87a251d49a1ad660b8512cfd22a"
      }
     },
     "metadata": {}
    },
    {
     "output_type": "stream",
     "name": "stdout",
     "text": [
      "CheckSum: V_right + V_left + V_middle = 362, Vert nium =362\n",
      "icosa_sphere3, (362 vertices) non symmetric vertices = []\n",
      "Visualize Left-Right symmetry with {slice_num} horizontal slices from top to bottom\n",
      "CheckSum: V_right + V_left + V_middle = 642, Vert nium =642\n",
      "icosa_sphere4, (642 vertices) non symmetric vertices = []\n",
      "Visualize Left-Right symmetry with {slice_num} horizontal slices from top to bottom\n"
     ]
    }
   ],
   "metadata": {}
  },
  {
   "cell_type": "code",
   "execution_count": 4,
   "source": [
    "#visualize the saved data\n",
    "data = np.load(npy_sub_file, allow_pickle = True).item()\n",
    "for s_num in  [2,3,4]:\n",
    "    m = data[s_num]\n",
    "    color = np.zeros_like(m['V'])\n",
    "    color[m['V_left']] = [1,0,0] \n",
    "    color[m['V_right']] = [0,0,1] \n",
    "    V =m['V'].copy()\n",
    "    \n",
    "    V_right = m['V_right']\n",
    "    V_opposite = m['V_opposite']\n",
    "    color4pairs = np.array(range(0,V.shape[0]))\n",
    "    color4pairs[V_right] = V_opposite[V_right]\n",
    "\n",
    "    p=mp.plot(m['V'],m['F'], shading = shading_dic)\n",
    "    p.add_points(m['V'], c =color, shading={\"point_size\": 0.8})\n",
    "    p.add_points(m['V'], c =color4pairs, shading={\"point_size\": 0.5})\n"
   ],
   "outputs": [
    {
     "output_type": "display_data",
     "data": {
      "text/plain": [
       "Renderer(camera=PerspectiveCamera(children=(DirectionalLight(color='white', intensity=0.6, position=(0.0, 0.0,…"
      ],
      "application/vnd.jupyter.widget-view+json": {
       "version_major": 2,
       "version_minor": 0,
       "model_id": "50a9cc0b02b44d789f2a422f8dec8781"
      }
     },
     "metadata": {}
    },
    {
     "output_type": "display_data",
     "data": {
      "text/plain": [
       "Renderer(camera=PerspectiveCamera(children=(DirectionalLight(color='white', intensity=0.6, position=(0.0, 0.0,…"
      ],
      "application/vnd.jupyter.widget-view+json": {
       "version_major": 2,
       "version_minor": 0,
       "model_id": "33169f0ca96242159c09d5c75467d25c"
      }
     },
     "metadata": {}
    },
    {
     "output_type": "display_data",
     "data": {
      "text/plain": [
       "Renderer(camera=PerspectiveCamera(children=(DirectionalLight(color='white', intensity=0.6, position=(0.0, 0.0,…"
      ],
      "application/vnd.jupyter.widget-view+json": {
       "version_major": 2,
       "version_minor": 0,
       "model_id": "c90f4d06a180472683299be1a0f13285"
      }
     },
     "metadata": {}
    }
   ],
   "metadata": {}
  },
  {
   "cell_type": "markdown",
   "source": [
    "## Loading saved results to validate its correctness \n",
    "* First, visualzing vertex partition and coloring left-right vertex pairs by the same color\n",
    "* Then, drawing meshes in which left vertices were reflected to the right "
   ],
   "metadata": {}
  },
  {
   "cell_type": "code",
   "execution_count": 8,
   "source": [
    "# visualize the symmetrization \n",
    "p=[]\n",
    "for s_num in resolutions:\n",
    "    m = data[s_num]\n",
    "    color = np.zeros_like(m['V'])\n",
    "    color[m['V_left']]  = [1,0,0] \n",
    "    color[m['V_right']] = [0,0,1] \n",
    "    \n",
    "    V = m['V'].copy() #reflect vertex coordinate from the right to the left\n",
    "    #V[m['V_left'],:]  =  V[m['V_right'],:]\n",
    "    #V[m['V_left'], 0] =  -V[m['V_left'], 0] \n",
    "    V_right = m['V_right']\n",
    "    V_opposite = m['V_opposite']\n",
    "    V[V_right,:] = V[V_opposite[V_right],:]\n",
    "    V[V_right,0] = -V[V_opposite[V_right],0]\n",
    "\n",
    "    if s_num ==2: \n",
    "        p = mp.plot(m['V'], m['F'], shading = shading_dic)\n",
    "        p.add_points(V, c =color, shading={\"point_size\": 1})\n",
    "    else:\n",
    "        V_shifted = V + [3*(s_num - resolutions[0]),0,0]\n",
    "        p.add_mesh(V_shifted, m['F'], shading = shading_dic)\n",
    "        p.add_points(V_shifted, c =color, shading={\"point_size\": 1})"
   ],
   "outputs": [
    {
     "output_type": "display_data",
     "data": {
      "text/plain": [
       "Renderer(camera=PerspectiveCamera(children=(DirectionalLight(color='white', intensity=0.6, position=(0.0, 0.0,…"
      ],
      "application/vnd.jupyter.widget-view+json": {
       "version_major": 2,
       "version_minor": 0,
       "model_id": "aafd1854e944486fbd7f942159fd16e3"
      }
     },
     "metadata": {}
    }
   ],
   "metadata": {}
  }
 ],
 "metadata": {
  "orig_nbformat": 4,
  "language_info": {
   "name": "python",
   "version": "3.6.15",
   "mimetype": "text/x-python",
   "codemirror_mode": {
    "name": "ipython",
    "version": 3
   },
   "pygments_lexer": "ipython3",
   "nbconvert_exporter": "python",
   "file_extension": ".py"
  },
  "kernelspec": {
   "name": "python3",
   "display_name": "Python 3.6.15 64-bit ('mcmr_ipy': conda)"
  },
  "interpreter": {
   "hash": "fa6145573473a0cef361711baf5b472935777b8c2d0fc7aba63a09325da80fe5"
  }
 },
 "nbformat": 4,
 "nbformat_minor": 2
}