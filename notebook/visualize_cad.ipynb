{
 "cells": [
  {
   "cell_type": "markdown",
   "source": [
    "# Iterate over CAD meshes and compare them side by side"
   ],
   "metadata": {}
  },
  {
   "cell_type": "code",
   "execution_count": 14,
   "source": [
    "import meshzoo\n",
    "import numpy as np\n",
    "import igl\n",
    "import meshplot as mp\n",
    "import scipy.io\n",
    "import os\n",
    "import math\n",
    "from matplotlib.colors import LinearSegmentedColormap\n",
    "import matplotlib.pyplot as plt\n",
    "import matplotlib as mpl\n",
    "from IPython.display import Image, display, Markdown\n",
    "import ipywidgets as widgets\n",
    "#from meshplot_utils import add_transparent_mesh, color4plot, DrawMeshes, DrawMeshTable, Out, reflectX, cmap_to_numpy\n",
    "import  meshplot_utils  as mu\n",
    "#from utils.debug_utils import picture_table_with_title\n",
    "import utils.debug_utils  as du\n",
    "import glob\n",
    "import fnmatch\n",
    "import  utils.geometry as gu\n",
    "from auxilary.test_postprocessing import get_obj_files, get_obj_class_by_index, read_cad_mesh, clean_CAD_format\n",
    "clean_cad_formats =  False"
   ],
   "outputs": [],
   "metadata": {}
  },
  {
   "cell_type": "code",
   "execution_count": 15,
   "source": [
    "#configurations \n",
    "shading_dic = dict(wireframe=True, line_color= [0.2,0.2,0.2] )\n",
    "resolutions= [2,3,4]\n",
    "\n",
    "npy_file     = '../auxilary/icoshpere_meshes.npy'\n",
    "npy_sub_file = '../auxilary/icoshpere_mesh_subdivision_1.npy'\n",
    "\n",
    "\n",
    "# #========================== small scale tests 10% ==================================\n",
    "# data_path_list = ['../save/car_10_MRCNN_small/car_small-qualitative',\\\n",
    "#                   '../save/plane_car_1_PointRend_small/aeroplane_small-car_small-qualitative',\\\n",
    "#                   '../save/plane_car_2_PointRend_small/aeroplane_small-car_small-qualitative', \\\n",
    "#                   '../save/bicycle_bus_car_bike_1_PointRend_small/bicycle_small-bus_small-car_small-motorbike_small-qualitative',\\\n",
    "#                   '../save/bicycle_bus_car_bike_4_PointRend_small/bicycle_small-bus_small-car_small-motorbike_small-qualitative' \\\n",
    "#                 ] \n",
    "\n",
    "\n",
    "#=============================full test datas ======================================\n",
    "data_path_list = ['../save/car_10_MRCNN__/car-qualitative',  \\\n",
    "                 '../save/plane_car_1_PointRend__/aeroplane-car-qualitative', \\\n",
    "                 '../save/plane_car_2_PointRend__/aeroplane-car-qualitative', \\\n",
    "                 '../save/bicycle_bus_car_bike_1_PointRend__/bicycle-bus-car-motorbike-qualitative', \\\n",
    "                 '../save/bicycle_bus_car_bike_4_PointRend__/bicycle-bus-car-motorbike-qualitative' \\\n",
    "               ]\n",
    "\n",
    "CAD_path = \"/home/ubuntu/research/datasets/Pascal3D+_release1.1/CAD\"\n",
    "CAD_path_prep = \"/home/ubuntu/research/datasets/Pascal3D+_release1.1/CAD_vox_tri\"\n",
    "CAD_classes = ['aeroplane', 'bicycle', 'boat',  'bottle',  'bus',  'car',  'chair',  'diningtable',  'motorbike',  'sofa',  'train',  'tvmonitor']\n",
    "widgets.Checkbox(value=False,description='show initial shape')\n",
    "  \n",
    "\n",
    "#visualize_sphere = True \n",
    "sphere_data = []\n",
    "#if visualize_sphere:\n",
    "sphere_data = np.load(npy_sub_file, allow_pickle = True).item()\n",
    "#reflect_sphere_y = True #MCMR intializes shapes with eco-sphere reflected along y axis \n",
    "sphere_data['reflect_y'] = True\n",
    "\n",
    "meshplot_to_html = True\n",
    "show_sphere_bydefault = True\n",
    "show_image_table = True #show input and rendered  rgb and mask images \n",
    "\n",
    "#enable_index_symmetry     = True  #symmetry of sphere deformation \n",
    "#enable_Hausdorff_symmetry = True   #symmetry of reconstructed mesh  (enable only one to avoid  plots being messed up)\n",
    "\n",
    "enable_rescale_for_ICP = True\n",
    "load_cad_from_mat      = False\n",
    "draw_meshes_before_aligment = True \n",
    "multi_hist_layout = True\n",
    "draw_step   = 10\n",
    "sample_step = 10\n"
   ],
   "outputs": [],
   "metadata": {}
  },
  {
   "cell_type": "markdown",
   "source": [
    "## compare CAD loaded from mesh files (obj, or off) to CADs loaded from .mat files \n",
    "### (should be the same)"
   ],
   "metadata": {}
  },
  {
   "cell_type": "code",
   "execution_count": 16,
   "source": [
    "CAD_classes = ['aeroplane']\n",
    "i = 0 \n",
    "for cad_class in CAD_classes:\n",
    "    cad_data = du.loadmat(f'{CAD_path}/{cad_class}.mat')\n",
    "    subclass_num = cad_data[cad_class].shape[0]\n",
    "    mu.Out(f'loading {cad_class}.mat : {subclass_num} subclasses',2)\n",
    "    for ci in range(subclass_num):\n",
    "        mu.Out(f'  subclasses {ci}',3)\n",
    "        current_cad = cad_data[cad_class][ci]\n",
    "        V = current_cad.__dict__['vertices']\n",
    "        F = current_cad.__dict__['faces'].astype(int) -1 #in mat file vertex indices start from 1 not 0 !\n",
    "        nF = F.shape[0]\n",
    "        # print(f'decimating 50 % of {nF} faces')\n",
    "        #dec_data = tuple(igl.decimate(V,F, nF))\n",
    "        #print(dec_data)\n",
    "        #DrawMeshes(None, [ [V,F, [1,.8,.8]] ])\n",
    "        obj_name = f'{CAD_path}/{cad_class}/{cad_class}_{ci+1:02d}.obj'\n",
    "        print(f' Save off as  {obj_name}')\n",
    "        igl.write_obj(obj_name,V,F)\n",
    "        if i % 5 == 0:\n",
    "            Vobj, Fobj = igl.read_triangle_mesh(obj_name)\n",
    "            mu.DrawMeshes(None, [ [V,F, [1,.8,.8]], [ Vobj,Fobj, [1,1,0]] ])\n",
    "        i += 1"
   ],
   "outputs": [
    {
     "output_type": "display_data",
     "data": {
      "text/plain": [
       "<IPython.core.display.Markdown object>"
      ],
      "text/markdown": [
       "## loading aeroplane.mat : 8 subclasses"
      ]
     },
     "metadata": {}
    },
    {
     "output_type": "display_data",
     "data": {
      "text/plain": [
       "<IPython.core.display.Markdown object>"
      ],
      "text/markdown": [
       "###   subclasses 0"
      ]
     },
     "metadata": {}
    },
    {
     "output_type": "stream",
     "name": "stdout",
     "text": [
      " Save off as  /home/ubuntu/research/datasets/Pascal3D+_release1.1/CAD/aeroplane/aeroplane_01.obj\n"
     ]
    },
    {
     "output_type": "display_data",
     "data": {
      "text/plain": [
       "Renderer(camera=PerspectiveCamera(children=(DirectionalLight(color='white', intensity=0.6, position=(0.0, 0.0,…"
      ],
      "application/vnd.jupyter.widget-view+json": {
       "version_major": 2,
       "version_minor": 0,
       "model_id": "fd273fe6b5d446ed8594adc19ab6786d"
      }
     },
     "metadata": {}
    },
    {
     "output_type": "display_data",
     "data": {
      "text/plain": [
       "<IPython.core.display.Markdown object>"
      ],
      "text/markdown": [
       "###   subclasses 1"
      ]
     },
     "metadata": {}
    },
    {
     "output_type": "stream",
     "name": "stdout",
     "text": [
      " Save off as  /home/ubuntu/research/datasets/Pascal3D+_release1.1/CAD/aeroplane/aeroplane_02.obj\n"
     ]
    },
    {
     "output_type": "display_data",
     "data": {
      "text/plain": [
       "<IPython.core.display.Markdown object>"
      ],
      "text/markdown": [
       "###   subclasses 2"
      ]
     },
     "metadata": {}
    },
    {
     "output_type": "stream",
     "name": "stdout",
     "text": [
      " Save off as  /home/ubuntu/research/datasets/Pascal3D+_release1.1/CAD/aeroplane/aeroplane_03.obj\n"
     ]
    },
    {
     "output_type": "display_data",
     "data": {
      "text/plain": [
       "<IPython.core.display.Markdown object>"
      ],
      "text/markdown": [
       "###   subclasses 3"
      ]
     },
     "metadata": {}
    },
    {
     "output_type": "stream",
     "name": "stdout",
     "text": [
      " Save off as  /home/ubuntu/research/datasets/Pascal3D+_release1.1/CAD/aeroplane/aeroplane_04.obj\n"
     ]
    },
    {
     "output_type": "display_data",
     "data": {
      "text/plain": [
       "<IPython.core.display.Markdown object>"
      ],
      "text/markdown": [
       "###   subclasses 4"
      ]
     },
     "metadata": {}
    },
    {
     "output_type": "stream",
     "name": "stdout",
     "text": [
      " Save off as  /home/ubuntu/research/datasets/Pascal3D+_release1.1/CAD/aeroplane/aeroplane_05.obj\n"
     ]
    },
    {
     "output_type": "display_data",
     "data": {
      "text/plain": [
       "<IPython.core.display.Markdown object>"
      ],
      "text/markdown": [
       "###   subclasses 5"
      ]
     },
     "metadata": {}
    },
    {
     "output_type": "stream",
     "name": "stdout",
     "text": [
      " Save off as  /home/ubuntu/research/datasets/Pascal3D+_release1.1/CAD/aeroplane/aeroplane_06.obj\n"
     ]
    },
    {
     "output_type": "display_data",
     "data": {
      "text/plain": [
       "Renderer(camera=PerspectiveCamera(children=(DirectionalLight(color='white', intensity=0.6, position=(0.0, 0.0,…"
      ],
      "application/vnd.jupyter.widget-view+json": {
       "version_major": 2,
       "version_minor": 0,
       "model_id": "1b8500b1cd2c4e51a683f2e9e8be89ab"
      }
     },
     "metadata": {}
    },
    {
     "output_type": "display_data",
     "data": {
      "text/plain": [
       "<IPython.core.display.Markdown object>"
      ],
      "text/markdown": [
       "###   subclasses 6"
      ]
     },
     "metadata": {}
    },
    {
     "output_type": "stream",
     "name": "stdout",
     "text": [
      " Save off as  /home/ubuntu/research/datasets/Pascal3D+_release1.1/CAD/aeroplane/aeroplane_07.obj\n"
     ]
    },
    {
     "output_type": "display_data",
     "data": {
      "text/plain": [
       "<IPython.core.display.Markdown object>"
      ],
      "text/markdown": [
       "###   subclasses 7"
      ]
     },
     "metadata": {}
    },
    {
     "output_type": "stream",
     "name": "stdout",
     "text": [
      " Save off as  /home/ubuntu/research/datasets/Pascal3D+_release1.1/CAD/aeroplane/aeroplane_08.obj\n"
     ]
    }
   ],
   "metadata": {}
  },
  {
   "cell_type": "markdown",
   "source": [
    "# Drawing orignal CADs vs preprocess CADs (voxelized) for each class "
   ],
   "metadata": {}
  },
  {
   "cell_type": "code",
   "execution_count": 17,
   "source": [
    "#drawing meshes a aligned table\n",
    "visualization_step = 1\n",
    "verbose  = False \n",
    "meshplot_to_html = True\n",
    "#reading CAD meshes from original dataset\n",
    "CAD_classes = ['car']\n",
    "mesh_list = []\n",
    "i = -1 \n",
    "shading = dict(wireframe=True, line_color= [0.1,0.1,0.1], width=1200, height=2000, wire_width=0.01, flat=True, line_width=0.01)\n",
    "p = None\n",
    "\n",
    "for cad_class in CAD_classes:\n",
    "    if clean_cad_formats:\n",
    "        clean_CAD_format(CAD_path_prep, [cad_class])\n",
    "        \n",
    "    cad_data = du.loadmat(f'{CAD_path}/{cad_class}.mat')\n",
    "    subclass_num = cad_data[cad_class].shape[0]\n",
    "    mu.Out(f'loading {cad_class}.mat : {subclass_num} subclasses',2)\n",
    "    orig_col  =  [0.7,0.7,1, 0.5]\n",
    "    voxel_col =  [1,1,0, 0.5]\n",
    "    for ci in range(subclass_num):\n",
    "        if verbose:\n",
    "            mu.Out(f'  subclasses {ci}',3)\n",
    "        i += 1\n",
    "        if i % visualization_step:\n",
    "            continue \n",
    "        current_cad = cad_data[cad_class][ci]\n",
    "        Vorig= current_cad.__dict__['vertices']\n",
    "        Forig = current_cad.__dict__['faces'].astype(int) -1 #in mat file vertex indices start from 1 not 0 !\n",
    "        nForig = Forig.shape[0]\n",
    "        Vobj, Fobj, obj_name = read_cad_mesh(CAD_path_prep, cad_class, ci, zero_based_index = True)\n",
    "        if verbose:\n",
    "            print(f' reading  {obj_name}')\n",
    "        Vobj, Fobj = igl.read_triangle_mesh(obj_name)\n",
    "        mesh_list.append( [Vorig, Forig, orig_col])\n",
    "        mesh_list.append( [Vobj,  Fobj,  voxel_col])\n",
    "\n",
    "\n",
    "        #mesh_list += [[Vorig,Forig, [0.7,0.7,1]], [ Vobj,Fobj, [1,1,0]] ]\n",
    "        #print(Y_shift)\n",
    "        #p=mu.DrawMeshes(p, [ [Vorig - Y_shift ,Forig, [0.7,0.7,1]], [ Vobj - Y_shift,Fobj, [1,1,0]] ],mesh_shading = shading)\n",
    "        #Y_shift[1] += 1.1*(Vobj[:,1].max() - Vobj[:,1].min())\n",
    "    \n",
    "    ncol = 4\n",
    "    nrow = int(subclass_num/(0.5*ncol))\n",
    "    mesh_table = mu.MeshList2Table(mesh_list, nrow, ncol)\n",
    "    p = mu.DrawMeshTable(None,mesh_table, col_shift=np.array([1.1, 1.5, 1.1, 1.1]),\\\n",
    "                                      row_shift = -1.1, mesh_shading = shading)\n",
    "    \n",
    "    \n",
    "    if meshplot_to_html:\n",
    "        html_name = f'{cad_class}_CAD.html'\n",
    "        p.save(html_name)"
   ],
   "outputs": [
    {
     "output_type": "display_data",
     "data": {
      "text/plain": [
       "<IPython.core.display.Markdown object>"
      ],
      "text/markdown": [
       "## loading car.mat : 10 subclasses"
      ]
     },
     "metadata": {}
    },
    {
     "output_type": "display_data",
     "data": {
      "text/plain": [
       "Renderer(camera=PerspectiveCamera(aspect=0.6, children=(DirectionalLight(color='white', intensity=0.6, positio…"
      ],
      "application/vnd.jupyter.widget-view+json": {
       "version_major": 2,
       "version_minor": 0,
       "model_id": "a76f35be4dec4c9c8963bdaaab4bb7f9"
      }
     },
     "metadata": {}
    },
    {
     "output_type": "stream",
     "name": "stdout",
     "text": [
      "Plot saved to file car_CAD.html.\n"
     ]
    }
   ],
   "metadata": {}
  },
  {
   "cell_type": "markdown",
   "source": [
    "## Simple test to pick ICP funciton and show  how well it alignes two meshes "
   ],
   "metadata": {}
  },
  {
   "cell_type": "code",
   "execution_count": 29,
   "source": [
    "import igl \n",
    "\n",
    "rotate_source = False\n",
    "source_file = '/home/ubuntu/research/datasets/Pascal3D+_release1.1/CAD_vox_tri/car/car_01_clean_solid_voxrem_dec_smooth_symm_cub_tri.obj'\n",
    "target_file = '/home/ubuntu/research/datasets/reconstructed_car_sub.obj'\n",
    "\n",
    "\n",
    "\n",
    "Ver_source, F_source = igl.read_triangle_mesh(source_file)\n",
    "Ver_source -= np.mean(Ver_source,axis=0)\n",
    "\n",
    "Ver_target, F_target = igl.read_triangle_mesh(target_file)\n",
    "Ver_target -= np.mean(Ver_target, axis=0)\n",
    "\n",
    "alpha = 10 #degrees\n",
    "\n",
    "#rotating source\n",
    "if rotate_source:\n",
    "  Rmat = (R.from_quat([0, 0, np.sin((alpha/180)*np.pi), np.cos((alpha/180)*np.pi)])).as_matrix()\n",
    "  Ver_source = np.matmul(Ver_source,Rmat)\n",
    "\n",
    "#Pick ICP function for the test:\n",
    "#Ver_source_algined, Rot, t = gu.align_source2target_PCA(Ver_source,F_source, Ver_target,F_target, 1000, 10)\n",
    "#Ver_source_algined, Rot, t = gu.align_source2target_pc_icp(Ver_source,F_source, Ver_target,F_target, 10000, 1, False,False)\n",
    "Ver_source_algined, Rot, t = gu.align_source2target_with_icp(Ver_source,F_source, Ver_target,F_target, 1000, 10, True)\n",
    "#Ver_source_algined, Rot, t = gu.align_PC_ICP_init_with_PCA(Ver_source,F_source, Ver_target,F_target, 1000, 10)\n",
    "\n",
    "print(f' #Vert. = {Ver_source.shape[0]}, {Ver_target.shape[0]}' )\n",
    "Vs_size = Ver_source.max() - Ver_source.min()\n",
    "print(f'normalized dist Before ICP = {gu.max_mean_mesh_distance(Ver_source, F_source, Ver_target, F_target)/Vs_size}')\n",
    "print(f'normalized dist After ICP = {gu.max_mean_mesh_distance(Ver_source_algined, F_source, Ver_target, F_target)/Vs_size}')\n",
    "\n",
    "shading = dict(wireframe=True, line_color= [0.1,0.1,0.1], width=600, height=600, wire_width=0.01, flat=True, line_width=0.01)\n",
    "mu.Out('Before and after aligment')\n",
    "mu.DrawMeshes(None, [ [Ver_source , F_source, [0.5,0.5,1,0.6]], [ Ver_target, F_target, [1,0.5,0.5,0.6]], \\\n",
    "                      [Ver_source_algined , F_source, [0.5,0.5,1,0.6]], [ Ver_target, F_target, [1,0.5,0.5,0.6]]\n",
    "                    ],shifts =[(0,0,0),(2,0,0), (0,0,0), (0,0,0)],mesh_shading = shading)\n",
    "\n"
   ],
   "outputs": [
    {
     "output_type": "stream",
     "name": "stdout",
     "text": [
      " #Vert. = 18718, 2562\n",
      "normalized dist Before ICP = [0.08942191 0.02574809 0.02304767]\n",
      "normalized dist After ICP = [0.06542064 0.01189983 0.01113067]\n"
     ]
    },
    {
     "output_type": "display_data",
     "data": {
      "text/plain": [
       "<IPython.core.display.Markdown object>"
      ],
      "text/markdown": [
       "### Before and after aligment"
      ]
     },
     "metadata": {}
    },
    {
     "output_type": "display_data",
     "data": {
      "text/plain": [
       "Renderer(camera=PerspectiveCamera(children=(DirectionalLight(color='white', intensity=0.6, position=(0.0, 0.0,…"
      ],
      "application/vnd.jupyter.widget-view+json": {
       "version_major": 2,
       "version_minor": 0,
       "model_id": "3a7ec6da2bae47808e6f9799eff87e00"
      }
     },
     "metadata": {}
    },
    {
     "output_type": "execute_result",
     "data": {
      "text/plain": [
       "<meshplot.Viewer.Viewer at 0x7fb3979be160>"
      ]
     },
     "metadata": {},
     "execution_count": 29
    }
   ],
   "metadata": {}
  },
  {
   "cell_type": "markdown",
   "source": [
    "# Testing  open3D PointCloud ICP on  different mesh pairs \n",
    "## put  all results in a single  table of 3D plots "
   ],
   "metadata": {}
  },
  {
   "cell_type": "code",
   "execution_count": 19,
   "source": [
    "source_target = dict(wireframe=True,  wire_width=0.001, wire_color=mu.rgb2hex(0,0,1), width=1000, height=2000)\n",
    "target_shadings = dict(wireframe=False)\n",
    "meshplot_to_html = True\n",
    "verbose = False\n",
    "\n",
    "\n",
    "import igl \n",
    "import open3d as o3d\n",
    "from scipy.spatial.transform import Rotation as R\n",
    "pcad = '/home/ubuntu/research/datasets/Pascal3D+_release1.1/'\n",
    "s_files = [pcad+'CAD_vox_tri/car/car_01_clean_solid_voxrem_dec_smooth_symm_cub_tri.obj', pcad+'CAD/car/01.off', pcad+'CAD_vox_tri/car/car_01_clean_solid_voxrem_dec_smooth_symm_cub_tri.obj',\\\n",
    "           pcad+'CAD_vox_tri/car/car_01_clean_solid_voxrem_dec_smooth_symm_cub_tri.obj', pcad+'CAD_vox_tri/car/car_01_clean_solid_voxrem_dec_smooth_symm_cub_tri.obj', \\\n",
    "           pcad+'CAD_vox_tri/car/car_01_clean_solid_voxrem_dec_smooth_symm_cub_tri.obj' ]\n",
    "t_files = [pcad+'CAD_vox_tri/car/car_01_clean_solid_voxrem_dec_smooth_symm_cub_tri.obj', pcad+'CAD/car/01.off', pcad+'CAD/car/01.off',\\\n",
    "           '/home/ubuntu/research/datasets/reconstructed_car_sub.obj',  '/home/ubuntu/research/datasets/reconstructed_car_sub.obj', \\\n",
    "           pcad+'CAD_vox_tri/car/car_07_clean_manual_v4_symm_cub_tri.obj' ]\n",
    "\n",
    "#s_files = s_files[0:3] #first three pairs \n",
    "#t_files = t_files[0:3]\n",
    "\n",
    "rot_degrees    = [10] *len(s_files) #[10, 10, 10, 0, 10, 10]\n",
    "transparencies = [10] *len(s_files) #[1,  1, 1,  1, 1, 1] # 10-> opacue , 1-> transparent \n",
    "shading_dic = [source_target, target_shadings] * 2*len(s_files)\n",
    "#print(shading_dic)\n",
    "\n",
    "mesh_list = []\n",
    "for i in range(len(s_files)):\n",
    "#for i in range(2):\n",
    "   \n",
    "    s_file = s_files[i] \n",
    "    t_file = t_files[i] \n",
    "    rot_degree = rot_degrees[i]\n",
    "    #mu.Out(f'---------  ICP for (source,target,rot) =  {(s_file,t_file,rot_degree)}  -------- ', 2)\n",
    "    Vs, Fs = igl.read_triangle_mesh(s_file)\n",
    "    Vt, Ft = igl.read_triangle_mesh(t_file)\n",
    "    if rot_degree != 0:\n",
    "        angle = rot_degree*(np.pi/180.0)\n",
    "        Rmat = (R.from_quat([0, 0, np.sin(angle), np.cos(angle)])).as_matrix()\n",
    "        Vs = np.matmul(Vs, Rmat)\n",
    "\n",
    "    Vs_aligned, _, _ = gu.align_open3d_PC_ICP(Vs,Fs, Vt,Ft, 1000, 10, True)\n",
    "    mu.Out(f'   Source-target dist before ICP = {gu.max_mean_mesh_distance(Vs,Fs,Vt,Ft)}')\n",
    "    mu.Out(f'   Source-target dist after  ICP = {gu.max_mean_mesh_distance(Vs_aligned,Fs,Vt,Ft)}')\n",
    "\n",
    "    alpha = transparencies[i]\n",
    "    s_col = [0.5,0.5,1,0.6*alpha]\n",
    "    t_col = [1,0.5,0.5,0.9*alpha]\n",
    "\n",
    "    mesh_list.append([Vs,  Fs, s_col       ] )\n",
    "    mesh_list.append([Vt, Ft, t_col        ] )\n",
    "    mesh_list.append([Vs_aligned, Fs, s_col] )\n",
    "    mesh_list.append([np.copy(Vt), Ft, t_col]         )\n",
    "\n",
    "\n",
    "\n",
    "mesh_table = mu.MeshList2Table(mesh_list, len(s_files), 4)\n",
    "p = mu.DrawMeshTable(None,mesh_table, col_shift=np.array([0, 2, 0, 0]),\\\n",
    "                                       row_shift = -1.1, mesh_shading = shading_dic)\n",
    "\n",
    "if meshplot_to_html:\n",
    "     html_name = f'ICP_open3d_tests.html'\n",
    "     p.save(html_name)"
   ],
   "outputs": [
    {
     "output_type": "display_data",
     "data": {
      "text/plain": [
       "<IPython.core.display.Markdown object>"
      ],
      "text/markdown": [
       "###    Source-target dist before ICP = (0.13251367103472422, 0.02373620546602952, 0.02373620546602951)"
      ]
     },
     "metadata": {}
    },
    {
     "output_type": "display_data",
     "data": {
      "text/plain": [
       "<IPython.core.display.Markdown object>"
      ],
      "text/markdown": [
       "###    Source-target dist after  ICP = (2.907926436840383e-16, 7.072750444725613e-17, 7.063713558872257e-17)"
      ]
     },
     "metadata": {}
    },
    {
     "output_type": "display_data",
     "data": {
      "text/plain": [
       "<IPython.core.display.Markdown object>"
      ],
      "text/markdown": [
       "###    Source-target dist before ICP = (0.13588161066915388, 0.0234507663928262, 0.02331512753120111)"
      ]
     },
     "metadata": {}
    },
    {
     "output_type": "display_data",
     "data": {
      "text/plain": [
       "<IPython.core.display.Markdown object>"
      ],
      "text/markdown": [
       "###    Source-target dist after  ICP = (0.0003169758782602093, 3.033121082696859e-08, 3.0331210821814437e-08)"
      ]
     },
     "metadata": {}
    },
    {
     "output_type": "display_data",
     "data": {
      "text/plain": [
       "<IPython.core.display.Markdown object>"
      ],
      "text/markdown": [
       "###    Source-target dist before ICP = (0.13512651266370515, 0.033425003547996504, 0.028678835301077725)"
      ]
     },
     "metadata": {}
    },
    {
     "output_type": "display_data",
     "data": {
      "text/plain": [
       "<IPython.core.display.Markdown object>"
      ],
      "text/markdown": [
       "###    Source-target dist after  ICP = (0.08537381611710794, 0.019117864727236672, 0.010995424050092809)"
      ]
     },
     "metadata": {}
    },
    {
     "output_type": "display_data",
     "data": {
      "text/plain": [
       "<IPython.core.display.Markdown object>"
      ],
      "text/markdown": [
       "###    Source-target dist before ICP = (0.12667543995756927, 0.03439796917488897, 0.03392272367188522)"
      ]
     },
     "metadata": {}
    },
    {
     "output_type": "display_data",
     "data": {
      "text/plain": [
       "<IPython.core.display.Markdown object>"
      ],
      "text/markdown": [
       "###    Source-target dist after  ICP = (0.06328391227873734, 0.010819633221875232, 0.009941363211041679)"
      ]
     },
     "metadata": {}
    },
    {
     "output_type": "display_data",
     "data": {
      "text/plain": [
       "<IPython.core.display.Markdown object>"
      ],
      "text/markdown": [
       "###    Source-target dist before ICP = (0.12667543995756927, 0.03439796917488897, 0.03392272367188522)"
      ]
     },
     "metadata": {}
    },
    {
     "output_type": "display_data",
     "data": {
      "text/plain": [
       "<IPython.core.display.Markdown object>"
      ],
      "text/markdown": [
       "###    Source-target dist after  ICP = (0.06328391227873738, 0.010819633221875236, 0.009941363211041679)"
      ]
     },
     "metadata": {}
    },
    {
     "output_type": "display_data",
     "data": {
      "text/plain": [
       "<IPython.core.display.Markdown object>"
      ],
      "text/markdown": [
       "###    Source-target dist before ICP = (0.13010257453464172, 0.03312400868554808, 0.03253025759988294)"
      ]
     },
     "metadata": {}
    },
    {
     "output_type": "display_data",
     "data": {
      "text/plain": [
       "<IPython.core.display.Markdown object>"
      ],
      "text/markdown": [
       "###    Source-target dist after  ICP = (0.08676914110850119, 0.02324920338669507, 0.019521937940555928)"
      ]
     },
     "metadata": {}
    },
    {
     "output_type": "display_data",
     "data": {
      "text/plain": [
       "Renderer(camera=PerspectiveCamera(aspect=0.5, children=(DirectionalLight(color='white', intensity=0.6, positio…"
      ],
      "application/vnd.jupyter.widget-view+json": {
       "version_major": 2,
       "version_minor": 0,
       "model_id": "87abea38461e4d3fab890c6211015104"
      }
     },
     "metadata": {}
    },
    {
     "output_type": "stream",
     "name": "stdout",
     "text": [
      "Plot saved to file ICP_open3d_tests.html.\n"
     ]
    }
   ],
   "metadata": {}
  },
  {
   "cell_type": "markdown",
   "source": [
    "## Fix mesh with not  well defined vertex normals\n",
    "* unit vertex normals are used in my PC-ICP implemntation \n",
    "* igl computes  NaN or zero normals for some vertices and - I replace these nomals with  radial directions from vertices to mesh center "
   ],
   "metadata": {}
  },
  {
   "cell_type": "code",
   "execution_count": 26,
   "source": [
    "shading = dict(wireframe=False, line_color= [0.1,0.1,0.1], width=600, height=600, wire_width=0.01, flat=True, line_width=0.01)\n",
    "#higlight vertices with NaN normals\n",
    "Vt,Ft = igl.read_triangle_mesh('/home/ubuntu/research/datasets/Pascal3D+_release1.1/CAD_vox_tri/car/car_04_clean_manual_symm_cub_tri.obj')\n",
    "\n",
    "Nt = igl.per_vertex_normals(Vt,Ft)\n",
    "norm_of_rows = np.linalg.norm(Nt, axis=1)\n",
    "Nt = Nt/ norm_of_rows[:, np.newaxis]#looks like nt=Nt= unit normals \n",
    "\n",
    "nan_index   =  np.any(np.isnan(Nt),axis=1)\n",
    "valid_index =  np.all( np.logical_not(np.isnan(Nt)),axis=1)\n",
    "if np.any(nan_index):\n",
    "    Nt[nan_index,:] = Vt[nan_index,:]\n",
    "    Nt_fixed = Vt[nan_index,] - np.mean(Vt,axis=0)\n",
    "    Nt_fixed_norm = np.linalg.norm(Nt_fixed, axis=1)\n",
    "    Nt_fixed = Nt_fixed/Nt_fixed_norm[:, np.newaxis]\n",
    "    Nt_fixed[np.isclose(Nt_fixed_norm,0),:] = np.array([1,0,0])  #put arbitary unit norm for 0 vertices with nan normals\n",
    "    Nt[nan_index,:] = Nt_fixed\n",
    "\n",
    "p = mu.DrawMeshes(None, [ [Vt,Ft, [0.7,0.7,1, 0.5], nan_index, [1,0,0] ] ],mesh_shading = shading)\n",
    "p.add_lines(Vt[valid_index,:], Vt[valid_index,:]+0.01*Nt[valid_index,:] ) #valid normal are short \n",
    "p.add_lines(Vt[nan_index,:], Vt[nan_index,:]+0.05*Nt_fixed) #fix normals are highlited by large length"
   ],
   "outputs": [
    {
     "output_type": "display_data",
     "data": {
      "text/plain": [
       "Renderer(camera=PerspectiveCamera(children=(DirectionalLight(color='white', intensity=0.6, position=(0.0, 0.0,…"
      ],
      "application/vnd.jupyter.widget-view+json": {
       "version_major": 2,
       "version_minor": 0,
       "model_id": "bf84836fa1d441ca90974d7de25c4da4"
      }
     },
     "metadata": {}
    },
    {
     "output_type": "stream",
     "name": "stdout",
     "text": [
      "Invalid color array given! Supported are numpy arrays. <class 'numpy.ndarray'>\n"
     ]
    },
    {
     "output_type": "execute_result",
     "data": {
      "text/plain": [
       "3"
      ]
     },
     "metadata": {},
     "execution_count": 26
    }
   ],
   "metadata": {}
  }
 ],
 "metadata": {
  "orig_nbformat": 4,
  "language_info": {
   "name": "python",
   "version": "3.6.15",
   "mimetype": "text/x-python",
   "codemirror_mode": {
    "name": "ipython",
    "version": 3
   },
   "pygments_lexer": "ipython3",
   "nbconvert_exporter": "python",
   "file_extension": ".py"
  },
  "kernelspec": {
   "name": "python3",
   "display_name": "Python 3.6.15 64-bit ('mcmr_ipy': conda)"
  },
  "interpreter": {
   "hash": "fa6145573473a0cef361711baf5b472935777b8c2d0fc7aba63a09325da80fe5"
  }
 },
 "nbformat": 4,
 "nbformat_minor": 2
}