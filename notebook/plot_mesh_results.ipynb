{
 "cells": [
  {
   "cell_type": "markdown",
   "source": [
    "# Symmetry related computation to get auxilary data and to test symmetrization features for MCMR "
   ],
   "metadata": {}
  },
  {
   "cell_type": "code",
   "execution_count": 1,
   "source": [
    "import meshzoo\n",
    "import numpy as np\n",
    "import igl\n",
    "import meshplot as mp\n",
    "import scipy.io\n",
    "import os\n",
    "import math\n"
   ],
   "outputs": [],
   "metadata": {}
  },
  {
   "cell_type": "code",
   "execution_count": 2,
   "source": [
    "shading_dic = dict(wireframe=True)\n",
    "resolutions= [2,3,4]\n",
    "def reflectX(xyz):\n",
    "    if len(xyz.shape)==2:\n",
    "        return  np.concatenate( (-xyz[:,0:1], xyz[:,1:3]), axis=1) \n",
    "    else:\n",
    "        return  np.concatenate( (-xyz[0:1], xyz[1:3]) ) \n",
    "\n",
    "npy_file     = '../auxilary/icoshpere_meshes.npy'\n",
    "npy_sub_file = '../auxilary/icoshpere_mesh_subdivision_1.npy'"
   ],
   "outputs": [],
   "metadata": {}
  },
  {
   "cell_type": "code",
   "execution_count": 3,
   "source": [
    "out_path = '/home/ubuntu/research/mcmr/save/car_small-qualitative'\n",
    "class_name = os.path.split(out_path)[-1].split(\"-\")[0]\n",
    "mean_shape_num =10\n",
    "shape_per_plot = 3\n",
    "p = [-1]*math.ceil(mean_shape_num/shape_per_plot)\n",
    "i =0 #number of dataset sample\n",
    "for shape_i in range(mean_shape_num):\n",
    "    obj_file = f'{out_path}/obj/{class_name}_{i:04}_mean_mesh_{shape_i}.obj'\n",
    "    print(obj_file)\n",
    "    V, F =igl.igl.read_triangle_mesh(obj_file)\n",
    "    pi = int(shape_i/shape_per_plot)\n",
    "    if p[pi] != -1:\n",
    "        p[pi].add_mesh(V + [0.5*(shape_i % shape_per_plot), 0,0],F, c = shape_i, shading = shading_dic)\n",
    "    else:\n",
    "        p[pi] = mp.plot(V,F, c = shape_i,  shading = shading_dic)\n",
    "    \n",
    "\n"
   ],
   "outputs": [
    {
     "output_type": "stream",
     "name": "stdout",
     "text": [
      "/home/ubuntu/research/mcmr/save/car_small-qualitative/obj/car_small_0000_mean_mesh_0.obj\n",
      "Invalid color array given! Supported are numpy arrays. <class 'int'>\n"
     ]
    },
    {
     "output_type": "display_data",
     "data": {
      "text/plain": [
       "Renderer(camera=PerspectiveCamera(children=(DirectionalLight(color='white', intensity=0.6, position=(0.0024655…"
      ],
      "application/vnd.jupyter.widget-view+json": {
       "version_major": 2,
       "version_minor": 0,
       "model_id": "52d31173c27b4aa78dc2b1c4b8a27050"
      }
     },
     "metadata": {}
    },
    {
     "output_type": "stream",
     "name": "stdout",
     "text": [
      "/home/ubuntu/research/mcmr/save/car_small-qualitative/obj/car_small_0000_mean_mesh_1.obj\n",
      "Invalid color array given! Supported are numpy arrays. <class 'int'>\n",
      "/home/ubuntu/research/mcmr/save/car_small-qualitative/obj/car_small_0000_mean_mesh_2.obj\n",
      "Invalid color array given! Supported are numpy arrays. <class 'int'>\n",
      "/home/ubuntu/research/mcmr/save/car_small-qualitative/obj/car_small_0000_mean_mesh_3.obj\n",
      "Invalid color array given! Supported are numpy arrays. <class 'int'>\n"
     ]
    },
    {
     "output_type": "display_data",
     "data": {
      "text/plain": [
       "Renderer(camera=PerspectiveCamera(children=(DirectionalLight(color='white', intensity=0.6, position=(0.0024655…"
      ],
      "application/vnd.jupyter.widget-view+json": {
       "version_major": 2,
       "version_minor": 0,
       "model_id": "b60e12ad44b243089293e29438b03aa6"
      }
     },
     "metadata": {}
    },
    {
     "output_type": "stream",
     "name": "stdout",
     "text": [
      "/home/ubuntu/research/mcmr/save/car_small-qualitative/obj/car_small_0000_mean_mesh_4.obj\n",
      "Invalid color array given! Supported are numpy arrays. <class 'int'>\n",
      "/home/ubuntu/research/mcmr/save/car_small-qualitative/obj/car_small_0000_mean_mesh_5.obj\n",
      "Invalid color array given! Supported are numpy arrays. <class 'int'>\n",
      "/home/ubuntu/research/mcmr/save/car_small-qualitative/obj/car_small_0000_mean_mesh_6.obj\n",
      "Invalid color array given! Supported are numpy arrays. <class 'int'>\n"
     ]
    },
    {
     "output_type": "display_data",
     "data": {
      "text/plain": [
       "Renderer(camera=PerspectiveCamera(children=(DirectionalLight(color='white', intensity=0.6, position=(0.0024655…"
      ],
      "application/vnd.jupyter.widget-view+json": {
       "version_major": 2,
       "version_minor": 0,
       "model_id": "d44df04e4a9d4ab993057340351e636a"
      }
     },
     "metadata": {}
    },
    {
     "output_type": "stream",
     "name": "stdout",
     "text": [
      "/home/ubuntu/research/mcmr/save/car_small-qualitative/obj/car_small_0000_mean_mesh_7.obj\n",
      "Invalid color array given! Supported are numpy arrays. <class 'int'>\n",
      "/home/ubuntu/research/mcmr/save/car_small-qualitative/obj/car_small_0000_mean_mesh_8.obj\n",
      "Invalid color array given! Supported are numpy arrays. <class 'int'>\n",
      "/home/ubuntu/research/mcmr/save/car_small-qualitative/obj/car_small_0000_mean_mesh_9.obj\n",
      "Invalid color array given! Supported are numpy arrays. <class 'int'>\n"
     ]
    },
    {
     "output_type": "display_data",
     "data": {
      "text/plain": [
       "Renderer(camera=PerspectiveCamera(children=(DirectionalLight(color='white', intensity=0.6, position=(0.0024655…"
      ],
      "application/vnd.jupyter.widget-view+json": {
       "version_major": 2,
       "version_minor": 0,
       "model_id": "f0db9c9652b04ecbadb6e18fc369b05f"
      }
     },
     "metadata": {}
    }
   ],
   "metadata": {}
  }
 ],
 "metadata": {
  "orig_nbformat": 4,
  "language_info": {
   "name": "python",
   "version": "3.6.15",
   "mimetype": "text/x-python",
   "codemirror_mode": {
    "name": "ipython",
    "version": 3
   },
   "pygments_lexer": "ipython3",
   "nbconvert_exporter": "python",
   "file_extension": ".py"
  },
  "kernelspec": {
   "name": "python3",
   "display_name": "Python 3.6.15 64-bit ('mcmr_ipy': conda)"
  },
  "interpreter": {
   "hash": "fa6145573473a0cef361711baf5b472935777b8c2d0fc7aba63a09325da80fe5"
  }
 },
 "nbformat": 4,
 "nbformat_minor": 2
}